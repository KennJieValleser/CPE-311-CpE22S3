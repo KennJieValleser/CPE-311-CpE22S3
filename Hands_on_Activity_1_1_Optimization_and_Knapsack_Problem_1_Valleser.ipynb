{
  "cells": [
    {
      "cell_type": "markdown",
      "metadata": {
        "id": "view-in-github",
        "colab_type": "text"
      },
      "source": [
        "<a href=\"https://colab.research.google.com/github/KennJieValleser/CPE-311-CpE22S3/blob/main/Hands_on_Activity_1_1_Optimization_and_Knapsack_Problem_1_Valleser.ipynb\" target=\"_parent\"><img src=\"https://colab.research.google.com/assets/colab-badge.svg\" alt=\"Open In Colab\"/></a>"
      ]
    },
    {
      "cell_type": "markdown",
      "id": "193686ba",
      "metadata": {
        "id": "193686ba"
      },
      "source": [
        "# Hands-on Activity 1.1 | Optimization and Knapsack Problem"
      ]
    },
    {
      "cell_type": "markdown",
      "id": "8d87e989",
      "metadata": {
        "id": "8d87e989"
      },
      "source": [
        "#### Objective(s):\n",
        "\n",
        "This activity aims to demonstrate how to apply  greedy and brute force algorithms to solve optimization problems"
      ]
    },
    {
      "cell_type": "markdown",
      "id": "7717a27a",
      "metadata": {
        "id": "7717a27a"
      },
      "source": [
        "#### Intended Learning Outcomes (ILOs):\n",
        "* Demonstrate how to solve knapsacks problems using greedy algorithm\n",
        "* Demonstrate how to  solve knapsacks problems using brute force algorithm\n"
      ]
    },
    {
      "cell_type": "markdown",
      "id": "6454cfe7",
      "metadata": {
        "id": "6454cfe7"
      },
      "source": [
        "#### Resources:\n",
        "* Jupyter Notebook\n"
      ]
    },
    {
      "cell_type": "markdown",
      "id": "433711ac",
      "metadata": {
        "id": "433711ac"
      },
      "source": [
        "#### Procedures:"
      ]
    },
    {
      "cell_type": "markdown",
      "id": "e54a8995",
      "metadata": {
        "id": "e54a8995"
      },
      "source": [
        "1. Create a Food class that defines the following:\n",
        "* name of the food\n",
        "* value of the food\n",
        "* calories of the food\n",
        "\n",
        "2. Create the following methods inside the Food class:\n",
        "* A method that returns the value of the food\n",
        "* A method that returns the cost of the food\n",
        "* A method that calculates the density of the food (Value / Cost)\n",
        "* A method that returns a string to display the name, value and calories of the food"
      ]
    },
    {
      "cell_type": "code",
      "execution_count": 18,
      "id": "cdd8310c",
      "metadata": {
        "id": "cdd8310c"
      },
      "outputs": [],
      "source": [
        "class Food(object):\n",
        "    def __init__(self, n, v, w):\n",
        "        # Make the variables private\n",
        "        self.name = n\n",
        "        self.value = v\n",
        "        self.calories = w\n",
        "    def getValue(self):\n",
        "        return self.value\n",
        "    def getCost(self):\n",
        "        return self.calories\n",
        "    def density(self):\n",
        "        return self.getValue()/self.getCost()\n",
        "    def __str__(self):\n",
        "        return self.name + ': <' + str(self.value)+ ', ' + str(self.calories) + '>'"
      ]
    },
    {
      "cell_type": "markdown",
      "id": "b36eee15",
      "metadata": {
        "id": "b36eee15"
      },
      "source": [
        "3. Create a buildMenu method that builds the name, value and calories of the food\n"
      ]
    },
    {
      "cell_type": "code",
      "execution_count": 20,
      "id": "509672a4",
      "metadata": {
        "id": "509672a4"
      },
      "outputs": [],
      "source": [
        "def buildMenu(names, values, calories):\n",
        "    menu = []\n",
        "    for i in range(len(values)):\n",
        "        menu.append(Food(names[i], values[i],calories[i]))\n",
        "    return menu"
      ]
    },
    {
      "cell_type": "markdown",
      "id": "86f3a85b",
      "metadata": {
        "id": "86f3a85b"
      },
      "source": [
        "4. Create a method greedy to return total value and cost of added food based on the desired maximum cost"
      ]
    },
    {
      "cell_type": "code",
      "execution_count": 3,
      "id": "b76912f0",
      "metadata": {
        "id": "b76912f0"
      },
      "outputs": [],
      "source": [
        "def greedy(items, maxCost, keyFunction):\n",
        "    \"\"\"Assumes items a list, maxCost >= 0,         keyFunction maps elements of items to numbers\"\"\"\n",
        "    itemsCopy = sorted(items, key = keyFunction,\n",
        "                       reverse = True)\n",
        "    result = []\n",
        "    totalValue, totalCost = 0.0, 0.0\n",
        "    for i in range(len(itemsCopy)):\n",
        "        if (totalCost+itemsCopy[i].getCost()) <= maxCost:\n",
        "            result.append(itemsCopy[i])\n",
        "            totalCost += itemsCopy[i].getCost()\n",
        "            totalValue += itemsCopy[i].getValue()\n",
        "    return (result, totalValue)"
      ]
    },
    {
      "cell_type": "markdown",
      "id": "887c566c",
      "metadata": {
        "id": "887c566c"
      },
      "source": [
        "5. Create a testGreedy method to test the greedy method"
      ]
    },
    {
      "cell_type": "code",
      "execution_count": 4,
      "id": "61f2a7b0",
      "metadata": {
        "id": "61f2a7b0"
      },
      "outputs": [],
      "source": [
        "def testGreedy(items, constraint, keyFunction):\n",
        "    taken, val = greedy(items, constraint, keyFunction)\n",
        "    print('Total value of items taken =', val)\n",
        "    for item in taken:\n",
        "        print('   ', item)"
      ]
    },
    {
      "cell_type": "code",
      "execution_count": 5,
      "id": "f93e5bfe",
      "metadata": {
        "id": "f93e5bfe"
      },
      "outputs": [],
      "source": [
        "def testGreedys(foods, maxUnits):\n",
        "    print('Use greedy by value to allocate', maxUnits,          'calories')\n",
        "    testGreedy(foods, maxUnits, Food.getValue)\n",
        "    print('\\nUse greedy by cost to allocate', maxUnits,          'calories')\n",
        "    testGreedy(foods, maxUnits, lambda x: 1/Food.getCost(x))\n",
        "    print('\\nUse greedy by density to allocate', maxUnits,          'calories')\n",
        "    testGreedy(foods, maxUnits, Food.density)"
      ]
    },
    {
      "cell_type": "markdown",
      "id": "cdf99f37",
      "metadata": {
        "id": "cdf99f37"
      },
      "source": [
        "6. Create arrays of food name, values and calories\n",
        "7. Call the buildMenu to create menu for food\n",
        "8. Use testGreedys method to pick food according to the desired calories"
      ]
    },
    {
      "cell_type": "code",
      "execution_count": 6,
      "id": "ee22c2dd",
      "metadata": {
        "id": "ee22c2dd",
        "outputId": "35215e25-f5c5-47bf-8952-75061f8173c3",
        "colab": {
          "base_uri": "https://localhost:8080/",
          "height": 0
        }
      },
      "outputs": [
        {
          "output_type": "stream",
          "name": "stdout",
          "text": [
            "Use greedy by value to allocate 2000 calories\n",
            "Total value of items taken = 603.0\n",
            "    burger: <100, 354>\n",
            "    pizza: <95, 258>\n",
            "    beer: <90, 154>\n",
            "    fries: <90, 365>\n",
            "    wine: <89, 123>\n",
            "    cola: <79, 150>\n",
            "    apple: <50, 95>\n",
            "    donut: <10, 195>\n",
            "\n",
            "Use greedy by cost to allocate 2000 calories\n",
            "Total value of items taken = 603.0\n",
            "    apple: <50, 95>\n",
            "    wine: <89, 123>\n",
            "    cola: <79, 150>\n",
            "    beer: <90, 154>\n",
            "    donut: <10, 195>\n",
            "    pizza: <95, 258>\n",
            "    burger: <100, 354>\n",
            "    fries: <90, 365>\n",
            "\n",
            "Use greedy by density to allocate 2000 calories\n",
            "Total value of items taken = 603.0\n",
            "    wine: <89, 123>\n",
            "    beer: <90, 154>\n",
            "    cola: <79, 150>\n",
            "    apple: <50, 95>\n",
            "    pizza: <95, 258>\n",
            "    burger: <100, 354>\n",
            "    fries: <90, 365>\n",
            "    donut: <10, 195>\n"
          ]
        }
      ],
      "source": [
        "names = ['wine', 'beer', 'pizza', 'burger', 'fries','cola', 'apple', 'donut', 'cake']\n",
        "values = [89,90,95,100,90,79,50,10]\n",
        "calories = [123,154,258,354,365,150,95,195]\n",
        "foods = buildMenu(names, values, calories)\n",
        "testGreedys(foods, 2000)"
      ]
    },
    {
      "cell_type": "markdown",
      "id": "a6bae808",
      "metadata": {
        "id": "a6bae808"
      },
      "source": [
        "Task 1: Change the maxUnits to 100"
      ]
    },
    {
      "cell_type": "code",
      "execution_count": 7,
      "id": "3c9655c5",
      "metadata": {
        "id": "3c9655c5",
        "colab": {
          "base_uri": "https://localhost:8080/",
          "height": 0
        },
        "outputId": "f75114c5-df18-49f9-e3e3-f278a7ef8620"
      },
      "outputs": [
        {
          "output_type": "stream",
          "name": "stdout",
          "text": [
            "Use greedy by value to allocate 100 calories\n",
            "Total value of items taken = 50.0\n",
            "    apple: <50, 95>\n",
            "\n",
            "Use greedy by cost to allocate 100 calories\n",
            "Total value of items taken = 50.0\n",
            "    apple: <50, 95>\n",
            "\n",
            "Use greedy by density to allocate 100 calories\n",
            "Total value of items taken = 50.0\n",
            "    apple: <50, 95>\n"
          ]
        }
      ],
      "source": [
        "names = ['wine', 'beer', 'pizza', 'burger', 'fries','cola', 'apple', 'donut', 'cake']\n",
        "values = [89,90,95,100,90,79,50,10]\n",
        "calories = [123,154,258,354,365,150,95,195]\n",
        "foods = buildMenu(names, values, calories)\n",
        "testGreedys(foods, 100)"
      ]
    },
    {
      "cell_type": "markdown",
      "id": "d13f4bdc",
      "metadata": {
        "id": "d13f4bdc"
      },
      "source": [
        "Task 2: Modify codes to add additional weight (criterion) to select food items."
      ]
    },
    {
      "cell_type": "code",
      "execution_count": 10,
      "id": "61fd22fa",
      "metadata": {
        "id": "61fd22fa",
        "colab": {
          "base_uri": "https://localhost:8080/",
          "height": 0
        },
        "outputId": "35cd5a1c-189d-49f9-9f6e-04def16acbd8"
      },
      "outputs": [
        {
          "output_type": "stream",
          "name": "stdout",
          "text": [
            "Use greedy by value to allocate 2000 calories\n",
            "Total value of items taken = 603.0\n",
            "    burger: <100, 354, 2.5>\n",
            "    pizza: <95, 258, 2.0>\n",
            "    beer: <90, 154, 1.5>\n",
            "    fries: <90, 365, 2.0>\n",
            "    wine: <89, 123, 1.5>\n",
            "    cola: <79, 150, 1.2>\n",
            "    apple: <50, 95, 0.3>\n",
            "    donut: <10, 195, 0.8>\n",
            "\n",
            "Use greedy by cost to allocate 2000 calories\n",
            "Total value of items taken = 603.0\n",
            "    apple: <50, 95, 0.3>\n",
            "    wine: <89, 123, 1.5>\n",
            "    cola: <79, 150, 1.2>\n",
            "    beer: <90, 154, 1.5>\n",
            "    donut: <10, 195, 0.8>\n",
            "    pizza: <95, 258, 2.0>\n",
            "    burger: <100, 354, 2.5>\n",
            "    fries: <90, 365, 2.0>\n",
            "\n",
            "Use greedy by density to allocate 2000 calories\n",
            "Total value of items taken = 603.0\n",
            "    wine: <89, 123, 1.5>\n",
            "    beer: <90, 154, 1.5>\n",
            "    cola: <79, 150, 1.2>\n",
            "    apple: <50, 95, 0.3>\n",
            "    pizza: <95, 258, 2.0>\n",
            "    burger: <100, 354, 2.5>\n",
            "    fries: <90, 365, 2.0>\n",
            "    donut: <10, 195, 0.8>\n"
          ]
        }
      ],
      "source": [
        "class Food(object):\n",
        "    def __init__(self, n, v, c, w):\n",
        "        self.name = n\n",
        "        self.value = v\n",
        "        self.calories = c\n",
        "        self.weight = w\n",
        "    def getValue(self):\n",
        "        return self.value\n",
        "    def getCost(self):\n",
        "        return self.calories\n",
        "    def getWeight(self):\n",
        "        return self.weight\n",
        "    def density(self):\n",
        "        return self.getValue()/self.getCost()\n",
        "    def __str__(self):\n",
        "        return self.name + ': <' + str(self.value)+ ', ' + str(self.calories) + ', ' + str(self.weight) + '>'\n",
        "\n",
        "def buildMenu(names, values, calories, weight):\n",
        "    menu = []\n",
        "    for i in range(len(values)):\n",
        "        menu.append(Food(names[i], values[i],calories[i], weight[i]))\n",
        "    return menu\n",
        "\n",
        "def greedy(items, maxCost, keyFunction):\n",
        "    \"\"\"Assumes items a list, maxCost >= 0,         keyFunction maps elements of items to numbers\"\"\"\n",
        "    itemsCopy = sorted(items, key = keyFunction,\n",
        "                       reverse = True)\n",
        "    result = []\n",
        "    totalValue, totalCost = 0.0, 0.0\n",
        "    for i in range(len(itemsCopy)):\n",
        "        if (totalCost+itemsCopy[i].getCost()) <= maxCost:\n",
        "            result.append(itemsCopy[i])\n",
        "            totalCost += itemsCopy[i].getCost()\n",
        "            totalValue += itemsCopy[i].getValue()\n",
        "    return (result, totalValue)\n",
        "\n",
        "def testGreedy(items, constraint, keyFunction):\n",
        "    taken, val = greedy(items, constraint, keyFunction)\n",
        "    print('Total value of items taken =', val)\n",
        "    for item in taken:\n",
        "        print('   ', item)\n",
        "\n",
        "def testGreedys(foods, maxUnits):\n",
        "    print('Use greedy by value to allocate', maxUnits,          'calories')\n",
        "    testGreedy(foods, maxUnits, Food.getValue)\n",
        "    print('\\nUse greedy by cost to allocate', maxUnits,          'calories')\n",
        "    testGreedy(foods, maxUnits, lambda x: 1/Food.getCost(x))\n",
        "    print('\\nUse greedy by density to allocate', maxUnits,          'calories')\n",
        "    testGreedy(foods, maxUnits, Food.density)\n",
        "\n",
        "names = ['wine', 'beer', 'pizza', 'burger', 'fries','cola', 'apple', 'donut', 'cake']\n",
        "values = [89,90,95,100,90,79,50,10]\n",
        "calories = [123,154,258,354,365,150,95,195]\n",
        "weight = [1.5, 1.5, 2.0 , 2.5, 2.0, 1.2, 0.3, 0.8]\n",
        "foods = buildMenu(names, values, calories, weight)\n",
        "testGreedys(foods, 2000)\n"
      ]
    },
    {
      "cell_type": "markdown",
      "id": "ba95a8c6",
      "metadata": {
        "id": "ba95a8c6"
      },
      "source": [
        "Task 3: Test your modified code to test the greedy algorithm to select food items with your additional weight."
      ]
    },
    {
      "cell_type": "code",
      "execution_count": 11,
      "id": "9d9b25c1",
      "metadata": {
        "id": "9d9b25c1",
        "colab": {
          "base_uri": "https://localhost:8080/",
          "height": 0
        },
        "outputId": "3eacd2b5-9b0e-4809-96aa-b4ee398fc6e5"
      },
      "outputs": [
        {
          "output_type": "stream",
          "name": "stdout",
          "text": [
            "Use greedy by value to allocate 2000 calories\n",
            "Total value of items taken = 603.0\n",
            "    burger: <100, 354, 2.5>\n",
            "    pizza: <95, 258, 2.0>\n",
            "    beer: <90, 154, 1.5>\n",
            "    fries: <90, 365, 2.0>\n",
            "    wine: <89, 123, 1.5>\n",
            "    cola: <79, 150, 1.2>\n",
            "    apple: <50, 95, 0.3>\n",
            "    donut: <10, 195, 0.8>\n",
            "\n",
            "Use greedy by cost to allocate 2000 calories\n",
            "Total value of items taken = 603.0\n",
            "    apple: <50, 95, 0.3>\n",
            "    wine: <89, 123, 1.5>\n",
            "    cola: <79, 150, 1.2>\n",
            "    beer: <90, 154, 1.5>\n",
            "    donut: <10, 195, 0.8>\n",
            "    pizza: <95, 258, 2.0>\n",
            "    burger: <100, 354, 2.5>\n",
            "    fries: <90, 365, 2.0>\n",
            "\n",
            "Use greedy by density to allocate 2000 calories\n",
            "Total value of items taken = 603.0\n",
            "    wine: <89, 123, 1.5>\n",
            "    beer: <90, 154, 1.5>\n",
            "    cola: <79, 150, 1.2>\n",
            "    apple: <50, 95, 0.3>\n",
            "    pizza: <95, 258, 2.0>\n",
            "    burger: <100, 354, 2.5>\n",
            "    fries: <90, 365, 2.0>\n",
            "    donut: <10, 195, 0.8>\n"
          ]
        }
      ],
      "source": [
        "class Food(object):\n",
        "    def __init__(self, n, v, c, w):\n",
        "        # Make the variables private\n",
        "        self.name = n\n",
        "        self.value = v\n",
        "        self.calories = c\n",
        "        self.weight = w\n",
        "    def getValue(self):\n",
        "        return self.value\n",
        "    def getCost(self):\n",
        "        return self.calories\n",
        "    def getWeight(self):\n",
        "        return self.weight\n",
        "    def density(self):\n",
        "        return self.getValue()/self.getCost()\n",
        "    def __str__(self):\n",
        "        return self.name + ': <' + str(self.value)+ ', ' + str(self.calories) + ', ' + str(self.weight) + '>'\n",
        "\n",
        "def buildMenu(names, values, calories, weight):\n",
        "    menu = []\n",
        "    for i in range(len(values)):\n",
        "        menu.append(Food(names[i], values[i],calories[i], weight[i]))\n",
        "    return menu\n",
        "\n",
        "def greedy(items, maxCost, keyFunction):\n",
        "    \"\"\"Assumes items a list, maxCost >= 0,         keyFunction maps elements of items to numbers\"\"\"\n",
        "    itemsCopy = sorted(items, key = keyFunction,\n",
        "                       reverse = True)\n",
        "    result = []\n",
        "    totalValue, totalCost = 0.0, 0.0\n",
        "    for i in range(len(itemsCopy)):\n",
        "        if (totalCost+itemsCopy[i].getCost()) <= maxCost:\n",
        "            result.append(itemsCopy[i])\n",
        "            totalCost += itemsCopy[i].getCost()\n",
        "            totalValue += itemsCopy[i].getValue()\n",
        "    return (result, totalValue)\n",
        "\n",
        "def testGreedy(items, constraint, keyFunction):\n",
        "    taken, val = greedy(items, constraint, keyFunction)\n",
        "    print('Total value of items taken =', val)\n",
        "    for item in taken:\n",
        "        print('   ', item)\n",
        "\n",
        "def testGreedys(foods, maxUnits):\n",
        "    print('Use greedy by value to allocate', maxUnits,          'calories')\n",
        "    testGreedy(foods, maxUnits, Food.getValue)\n",
        "    print('\\nUse greedy by cost to allocate', maxUnits,          'calories')#1/cost\n",
        "    testGreedy(foods, maxUnits, lambda x: 1/Food.getCost(x))\n",
        "    print('\\nUse greedy by density to allocate', maxUnits,          'calories')#value/calories\n",
        "    testGreedy(foods, maxUnits, Food.density)\n",
        "\n",
        "names = ['wine', 'beer', 'pizza', 'burger', 'fries','cola', 'apple', 'donut', 'cake']\n",
        "values = [89,90,95,100,90,79,50,10]\n",
        "calories = [123,154,258,354,365,150,95,195]\n",
        "weight = [1.5, 1.5, 2.0 , 2.5, 2.0, 1.2, 0.3, 0.8]\n",
        "foods = buildMenu(names, values, calories, weight)\n",
        "testGreedys(foods, 2000)\n"
      ]
    },
    {
      "cell_type": "markdown",
      "id": "1baef0aa",
      "metadata": {
        "id": "1baef0aa"
      },
      "source": [
        "9. Create method to use  Bruteforce algorithm instead of greedy algorithm"
      ]
    },
    {
      "cell_type": "code",
      "execution_count": 12,
      "id": "3f61953e",
      "metadata": {
        "id": "3f61953e"
      },
      "outputs": [],
      "source": [
        "def maxVal(toConsider, avail):\n",
        "    \"\"\"Assumes toConsider a list of items, avail a weight\n",
        "       Returns a tuple of the total value of a solution to the\n",
        "         0/1 knapsack problem and the items of that solution\"\"\"\n",
        "    if toConsider == [] or avail == 0:\n",
        "        result = (0, ())\n",
        "    elif toConsider[0].getCost() > avail:\n",
        "        #Explore right branch only\n",
        "        result = maxVal(toConsider[1:], avail)\n",
        "    else:\n",
        "        nextItem = toConsider[0]\n",
        "        #Explore left branch\n",
        "        withVal, withToTake = maxVal(toConsider[1:],\n",
        "                                     avail - nextItem.getCost())\n",
        "        withVal += nextItem.getValue()\n",
        "        #Explore right branch\n",
        "        withoutVal, withoutToTake = maxVal(toConsider[1:], avail)\n",
        "        #Choose better branch\n",
        "        if withVal > withoutVal:\n",
        "            result = (withVal, withToTake + (nextItem,))\n",
        "        else:\n",
        "            result = (withoutVal, withoutToTake)\n",
        "    return result"
      ]
    },
    {
      "cell_type": "code",
      "execution_count": 23,
      "id": "601e6dfe",
      "metadata": {
        "id": "601e6dfe"
      },
      "outputs": [],
      "source": [
        "def testMaxVal(foods, maxUnits, printItems = True):\n",
        "    print('Use search tree to allocate', maxUnits,\n",
        "          'calories')\n",
        "    val, taken = maxVal(foods, maxUnits)\n",
        "    print('Total costs of foods taken =', val)\n",
        "    if printItems:\n",
        "        for item in taken:\n",
        "            print('   ', item)"
      ]
    },
    {
      "cell_type": "code",
      "execution_count": 24,
      "id": "f4c33d92",
      "metadata": {
        "id": "f4c33d92",
        "outputId": "2b33abdf-eb8b-49ea-8fe0-b48b3f88d87b",
        "colab": {
          "base_uri": "https://localhost:8080/",
          "height": 0
        }
      },
      "outputs": [
        {
          "output_type": "stream",
          "name": "stdout",
          "text": [
            "Use search tree to allocate 2400 calories\n",
            "Total costs of foods taken = 603\n",
            "    donut: <10, 195>\n",
            "    apple: <50, 95>\n",
            "    cola: <79, 150>\n",
            "    fries: <90, 365>\n",
            "    burger: <100, 354>\n",
            "    pizza: <95, 258>\n",
            "    beer: <90, 154>\n",
            "    wine: <89, 123>\n"
          ]
        }
      ],
      "source": [
        "names = ['wine', 'beer', 'pizza', 'burger', 'fries','cola', 'apple', 'donut', 'cake']\n",
        "values = [89,90,95,100,90,79,50,10]\n",
        "calories = [123,154,258,354,365,150,95,195]\n",
        "foods = buildMenu(names, values, calories)\n",
        "testMaxVal(foods, 2400)"
      ]
    },
    {
      "cell_type": "markdown",
      "id": "5e8ee81f",
      "metadata": {
        "id": "5e8ee81f"
      },
      "source": [
        "#### Supplementary Activity:"
      ]
    },
    {
      "cell_type": "markdown",
      "id": "f7eb02e1",
      "metadata": {
        "id": "f7eb02e1"
      },
      "source": [
        "* Choose a real-world problem that solves knapsacks problem\n",
        "* Use the greedy and brute force algorithm to solve knapsacks problem\n"
      ]
    },
    {
      "cell_type": "code",
      "execution_count": 34,
      "id": "3945391c",
      "metadata": {
        "id": "3945391c",
        "colab": {
          "base_uri": "https://localhost:8080/",
          "height": 0
        },
        "outputId": "ac0ab70c-c072-4757-c646-678bffd681f4"
      },
      "outputs": [
        {
          "output_type": "stream",
          "name": "stdout",
          "text": [
            "\n",
            "Use greedy by value to allocate 15 kg to toolbox\n",
            "Total value of tools taken = 150.0\n",
            "    Drill: <100, 10>\n",
            "    Wrench: <50, 5>\n",
            "\n",
            "Use greedy by weight to allocate 15 kg to toolbox\n",
            "Total value of tools taken = 150.0\n",
            "    Tape Measure: <20, 1>\n",
            "    Screwdriver: <40, 2>\n",
            "    Chisel: <25, 2>\n",
            "    Pliers: <30, 3>\n",
            "    Utility Knife: <35, 3>\n",
            "\n",
            "Use greedy by density to allocate 15 kg to toolbox\n",
            "Total value of tools taken = 170.0\n",
            "    Screwdriver: <40, 2>\n",
            "    Tape Measure: <20, 1>\n",
            "    Chisel: <25, 2>\n",
            "    Utility Knife: <35, 3>\n",
            "    Wrench: <50, 5>\n",
            "\n",
            "Brute Force Algorithm Results:\n",
            "Total value of tools taken = 185\n",
            "    Screwdriver: <40, 2>\n",
            "    Drill: <100, 10>\n",
            "    Tape Measure: <20, 1>\n",
            "    Chisel: <25, 2>\n"
          ]
        }
      ],
      "source": [
        "# The mechanic needs to choose the best combination of tools for the toolbox, maximizing their value while ensuring the total weight doesn't exceed the toolbox's capacity.\n",
        "\n",
        "tool_names = ['Wrench', 'Screwdriver', 'Hammer', 'Pliers', 'Drill', 'Tape Measure', 'Chisel', 'Utility Knife']\n",
        "tool_values = [50, 40, 60, 30, 100, 20, 25, 35]\n",
        "tool_weights = [5, 2, 7, 3, 10, 1, 2, 3]\n",
        "\n",
        "class Tool(object):\n",
        "    def __init__(self, name, value, weight):\n",
        "        self.name = name\n",
        "        self.value = value\n",
        "        self.weight = weight\n",
        "\n",
        "    def getValue(self):\n",
        "        return self.value\n",
        "\n",
        "    def getWeight(self):\n",
        "        return self.weight\n",
        "\n",
        "    def density(self):\n",
        "        return self.getValue() / self.getWeight()\n",
        "\n",
        "    def __str__(self):\n",
        "        return f'{self.name}: <{self.value}, {self.weight}>'\n",
        "\n",
        "\n",
        "def buildMenu(names, values, weights):\n",
        "    menu = []\n",
        "    for i in range(len(values)):\n",
        "        menu.append(Tool(names[i], values[i], weights[i]))\n",
        "    return menu\n",
        "\n",
        "\n",
        "def greedy(items, maxWeight, keyFunction):\n",
        "    itemsCopy = sorted(items, key=keyFunction, reverse=True)\n",
        "    result = []\n",
        "    totalValue, totalWeight = 0.0, 0.0\n",
        "    for item in itemsCopy:\n",
        "        if (totalWeight + item.getWeight()) <= maxWeight:\n",
        "            result.append(item)\n",
        "            totalWeight += item.getWeight()\n",
        "            totalValue += item.getValue()\n",
        "    return result, totalValue\n",
        "\n",
        "\n",
        "def testGreedy(items, maxWeight, keyFunction):\n",
        "    taken, val = greedy(items, maxWeight, keyFunction)\n",
        "    print('Total value of tools taken =', val)\n",
        "    for item in taken:\n",
        "        print('   ', item)\n",
        "\n",
        "\n",
        "def testGreedys(tools, maxWeight):\n",
        "    print(f'\\nUse greedy by value to allocate {maxWeight} kg to toolbox')\n",
        "    testGreedy(tools, maxWeight, Tool.getValue)\n",
        "    print(f'\\nUse greedy by weight to allocate {maxWeight} kg to toolbox')\n",
        "    testGreedy(tools, maxWeight, lambda x: 1/Tool.getWeight(x))\n",
        "    print(f'\\nUse greedy by density to allocate {maxWeight} kg to toolbox')\n",
        "    testGreedy(tools, maxWeight, Tool.density)\n",
        "\n",
        "\n",
        "def bruteForce(tools, maxWeight):\n",
        "    bestValue = 0\n",
        "    bestCombination = None\n",
        "    n = len(tools)\n",
        "\n",
        "    for i in range(1, 2**n):\n",
        "        subset = []\n",
        "        totalWeight = 0\n",
        "        totalValue = 0\n",
        "\n",
        "        for j in range(n):\n",
        "            if (i & (2**j)) > 0:\n",
        "                subset.append(tools[j])\n",
        "                totalWeight += tools[j].getWeight()\n",
        "                totalValue += tools[j].getValue()\n",
        "\n",
        "        if totalWeight <= maxWeight and totalValue > bestValue:\n",
        "            bestValue = totalValue\n",
        "            bestCombination = subset\n",
        "\n",
        "    return bestValue, bestCombination\n",
        "\n",
        "def testBruteForce(tools, maxWeight):\n",
        "    bestValue, bestCombination = bruteForce(tools, maxWeight)\n",
        "    print(\"\\nBrute Force Algorithm Results:\")\n",
        "    print('Total value of tools taken =', bestValue)\n",
        "    if bestCombination:\n",
        "        for item in bestCombination:\n",
        "            print('   ', item)\n",
        "    else:\n",
        "        print(\"No valid combination found.\")\n",
        "\n",
        "\n",
        "\n",
        "max_weight = 15\n",
        "\n",
        "\n",
        "tools = buildMenu(tool_names, tool_values, tool_weights)\n",
        "\n",
        "\n",
        "testGreedys(tools, max_weight )\n",
        "\n",
        "\n",
        "testBruteForce(tools, max_weight)\n",
        "\n"
      ]
    },
    {
      "cell_type": "markdown",
      "id": "8bbdd39c",
      "metadata": {
        "id": "8bbdd39c"
      },
      "source": [
        "#### Conclusion:"
      ]
    },
    {
      "cell_type": "markdown",
      "id": "fb608ce3",
      "metadata": {
        "id": "fb608ce3"
      },
      "source": [
        "The codes in the procedure and the ones I made are solving the Knapsack Problem. The Greedy Algorithm is a quicker method that selects items based on specific criteria like value, cost, or density. It doesn't always give the best solution, but it's faster for large numbers of items. On the other hand, the Brute Force Algorithm checks every possible combination of tools, ensuring the best solution."
      ]
    }
  ],
  "metadata": {
    "kernelspec": {
      "display_name": "Python 3",
      "language": "python",
      "name": "python3"
    },
    "language_info": {
      "codemirror_mode": {
        "name": "ipython",
        "version": 3
      },
      "file_extension": ".py",
      "mimetype": "text/x-python",
      "name": "python",
      "nbconvert_exporter": "python",
      "pygments_lexer": "ipython3",
      "version": "3.7.10"
    },
    "colab": {
      "provenance": [],
      "include_colab_link": true
    }
  },
  "nbformat": 4,
  "nbformat_minor": 5
}