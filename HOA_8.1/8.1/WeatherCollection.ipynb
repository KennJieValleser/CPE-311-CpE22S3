{
 "cells": [
  {
   "cell_type": "markdown",
   "id": "a2b8fc06-e760-4b12-9907-a93dee08235d",
   "metadata": {},
   "source": [
    "# Collecting weather data from an API"
   ]
  },
  {
   "cell_type": "markdown",
   "id": "d2946d4e-c4f2-45e8-9f6c-a8ce227e47a8",
   "metadata": {},
   "source": [
    "### About the data\n",
    "\n",
    "In this notebook, we will be collecting daily weather data from the National Centers for Environmental Information (NCEI) API. We will use the Global Historical Climatology\n",
    "Network - Daily (GHCND) data set; see the documentation here."
   ]
  },
  {
   "cell_type": "markdown",
   "id": "de8fe20b-e36e-4802-b81a-6881613bc4bd",
   "metadata": {},
   "source": [
    "Note: The NCEI is part of the National Oceanic and Atmospheric Administration (NOAA) and, as you can see from the URL for the API, this resource was created when the\n",
    "NCEI was called the NCDC. Should the URL for this resource change in the future, you can search for the NCEI weather API to find the updated one."
   ]
  },
  {
   "cell_type": "markdown",
   "id": "43cf3311-804a-4aaf-b76f-5ff835703e81",
   "metadata": {},
   "source": [
    "Paste your token below."
   ]
  },
  {
   "cell_type": "code",
   "execution_count": 7,
   "id": "6cfd8ab9-2b2c-4433-8a7d-6916d8f8dff2",
   "metadata": {},
   "outputs": [],
   "source": [
    "import requests\n",
    "\n",
    "def make_req(endpoint, payload=None):\n",
    "  return requests.get(\n",
    "      f'https://www.ncdc.noaa.gov/cdo-web/api/v2/{endpoint}',\n",
    "      headers={\n",
    "          'token' : 'COGqDwKIRDvdlxMHVhxgqTsoJqtCoAfz'\n",
    "      },params=payload\n",
    "  )"
   ]
  },
  {
   "cell_type": "code",
   "execution_count": 8,
   "id": "2c77bfa2-f5f1-4ac5-9e5e-1b66a7bdcc6f",
   "metadata": {},
   "outputs": [
    {
     "data": {
      "text/plain": [
       "200"
      ]
     },
     "execution_count": 8,
     "metadata": {},
     "output_type": "execute_result"
    }
   ],
   "source": [
    "#let's check if the API is working properly\n",
    "\n",
    "response = make_req('datasets', {'startdate':'2018-10-01'})\n",
    "response.status_code"
   ]
  },
  {
   "cell_type": "markdown",
   "id": "674ea24b-7559-41a0-9ce4-275b14686a32",
   "metadata": {},
   "source": [
    "### Collect All Data Points for 2018 In NYC (Various Stations)"
   ]
  },
  {
   "cell_type": "markdown",
   "id": "65b4aff3-5ced-4f50-94ba-2a109330750c",
   "metadata": {},
   "source": [
    "We can make a loop to query for all the data points one day at a time. Here we create a list of all the results:"
   ]
  },
  {
   "cell_type": "code",
   "execution_count": 9,
   "id": "f5262533-a70a-4b6f-bddb-f08925c1c867",
   "metadata": {},
   "outputs": [
    {
     "data": {
      "text/plain": [
       "'gathering data for 2018-12-31'"
      ]
     },
     "metadata": {},
     "output_type": "display_data"
    }
   ],
   "source": [
    "import datetime\n",
    "from IPython import display as dis\n",
    "\n",
    "current = datetime.date(2018,1,1)\n",
    "end = datetime.date(2019,1,1)\n",
    "\n",
    "results = []\n",
    "\n",
    "while current < end :\n",
    "  dis.clear_output(wait=True)\n",
    "  dis.display(f'gathering data for {str(current)}')\n",
    "\n",
    "  response = make_req(\n",
    "      'data',{\n",
    "          'datasetid':'GHCND',\n",
    "          'locationid':'CITY:US360019',\n",
    "          'startdate':current,\n",
    "          'enddate':current,\n",
    "          'units':'metric',\n",
    "          'limit':1000\n",
    "      }\n",
    "  )\n",
    "  if response.ok:\n",
    "    results.extend(response.json()['results'])\n",
    "\n",
    "  current += datetime.timedelta(days=1)"
   ]
  },
  {
   "cell_type": "markdown",
   "id": "3ea21147-bbfa-46b3-b449-503c8b016eef",
   "metadata": {},
   "source": [
    "Now, we can create a dataframe with all this data. Notice there are multiple stations with values for each datatype on a given day. We don't know what the stations are, but we can look them up and add them to the data:"
   ]
  },
  {
   "cell_type": "code",
   "execution_count": 27,
   "id": "eb73f41d-2e47-4fe0-9d5b-e1c1c207bb57",
   "metadata": {},
   "outputs": [
    {
     "data": {
      "text/html": [
       "<div>\n",
       "<style scoped>\n",
       "    .dataframe tbody tr th:only-of-type {\n",
       "        vertical-align: middle;\n",
       "    }\n",
       "\n",
       "    .dataframe tbody tr th {\n",
       "        vertical-align: top;\n",
       "    }\n",
       "\n",
       "    .dataframe thead th {\n",
       "        text-align: right;\n",
       "    }\n",
       "</style>\n",
       "<table border=\"1\" class=\"dataframe\">\n",
       "  <thead>\n",
       "    <tr style=\"text-align: right;\">\n",
       "      <th></th>\n",
       "      <th>date</th>\n",
       "      <th>datatype</th>\n",
       "      <th>station</th>\n",
       "      <th>attributes</th>\n",
       "      <th>value</th>\n",
       "    </tr>\n",
       "  </thead>\n",
       "  <tbody>\n",
       "    <tr>\n",
       "      <th>0</th>\n",
       "      <td>2018-01-01T00:00:00</td>\n",
       "      <td>PRCP</td>\n",
       "      <td>GHCND:US1CTFR0039</td>\n",
       "      <td>,,N,0800</td>\n",
       "      <td>0.0</td>\n",
       "    </tr>\n",
       "    <tr>\n",
       "      <th>1</th>\n",
       "      <td>2018-01-01T00:00:00</td>\n",
       "      <td>PRCP</td>\n",
       "      <td>GHCND:US1NJBG0015</td>\n",
       "      <td>,,N,1050</td>\n",
       "      <td>0.0</td>\n",
       "    </tr>\n",
       "    <tr>\n",
       "      <th>2</th>\n",
       "      <td>2018-01-01T00:00:00</td>\n",
       "      <td>SNOW</td>\n",
       "      <td>GHCND:US1NJBG0015</td>\n",
       "      <td>,,N,1050</td>\n",
       "      <td>0.0</td>\n",
       "    </tr>\n",
       "    <tr>\n",
       "      <th>3</th>\n",
       "      <td>2018-01-01T00:00:00</td>\n",
       "      <td>PRCP</td>\n",
       "      <td>GHCND:US1NJBG0017</td>\n",
       "      <td>,,N,0920</td>\n",
       "      <td>0.0</td>\n",
       "    </tr>\n",
       "    <tr>\n",
       "      <th>4</th>\n",
       "      <td>2018-01-01T00:00:00</td>\n",
       "      <td>SNOW</td>\n",
       "      <td>GHCND:US1NJBG0017</td>\n",
       "      <td>,,N,0920</td>\n",
       "      <td>0.0</td>\n",
       "    </tr>\n",
       "  </tbody>\n",
       "</table>\n",
       "</div>"
      ],
      "text/plain": [
       "                  date datatype            station attributes  value\n",
       "0  2018-01-01T00:00:00     PRCP  GHCND:US1CTFR0039   ,,N,0800    0.0\n",
       "1  2018-01-01T00:00:00     PRCP  GHCND:US1NJBG0015   ,,N,1050    0.0\n",
       "2  2018-01-01T00:00:00     SNOW  GHCND:US1NJBG0015   ,,N,1050    0.0\n",
       "3  2018-01-01T00:00:00     PRCP  GHCND:US1NJBG0017   ,,N,0920    0.0\n",
       "4  2018-01-01T00:00:00     SNOW  GHCND:US1NJBG0017   ,,N,0920    0.0"
      ]
     },
     "execution_count": 27,
     "metadata": {},
     "output_type": "execute_result"
    }
   ],
   "source": [
    "import pandas as pd\n",
    "\n",
    "df = pd.DataFrame(results)\n",
    "df.head()"
   ]
  },
  {
   "cell_type": "markdown",
   "id": "d878d764-7911-4ffc-83c3-a543fcd28e41",
   "metadata": {},
   "source": [
    "Save this data to a file:"
   ]
  },
  {
   "cell_type": "code",
   "execution_count": 28,
   "id": "e01dc6ce-8f10-4477-843c-9432e613da70",
   "metadata": {},
   "outputs": [],
   "source": [
    "path = df.to_csv('nyc_weather_2018.csv', index=False)"
   ]
  },
  {
   "cell_type": "markdown",
   "id": "2d58ec6e-eed0-48be-92a0-f307b4bcdde6",
   "metadata": {},
   "source": [
    "and write it to the database:"
   ]
  },
  {
   "cell_type": "code",
   "execution_count": 29,
   "id": "0bae24f1-516b-4bc1-b933-db55a529b9bc",
   "metadata": {},
   "outputs": [],
   "source": [
    "import sqlite3 as sq3\n",
    "\n",
    "with sq3.connect('weather.db') as connection:\n",
    "  df.to_sql(\n",
    "      'weather',connection, index=False, if_exists='replace'\n",
    "  )"
   ]
  },
  {
   "cell_type": "markdown",
   "id": "7f514b6c-5612-4041-af29-98bde0c09a36",
   "metadata": {},
   "source": [
    "For learning about merging dataframes, we will also get the data mapping station IDs to information about the station:"
   ]
  },
  {
   "cell_type": "code",
   "execution_count": 30,
   "id": "24575c6c-6be2-463a-88ad-bada147da5d3",
   "metadata": {},
   "outputs": [],
   "source": [
    "response = make_req(\n",
    "    'stations',{\n",
    "        'datasetid':'GHCND',\n",
    "        'locationid':'CITY:US360019',\n",
    "        'limit':1000\n",
    "    }\n",
    ")\n",
    "# searched using the database(SQLite3) connection from previous cell ↑↑↑\n",
    "stations = pd.DataFrame(response.json()['results'])[['id','name','latitude','longitude','elevation']]\n",
    "stations.to_csv('weather_stations.csv', index=False) # create a csv of the weather stations\n",
    "\n",
    "with sq3.connect('weather.db') as connection:\n",
    "  stations.to_sql('stations',connection,index=False, if_exists='replace')"
   ]
  },
  {
   "cell_type": "code",
   "execution_count": 26,
   "id": "1b2e9cb7-d092-4995-afa6-e093e47b92c5",
   "metadata": {},
   "outputs": [
    {
     "data": {
      "text/html": [
       "<div>\n",
       "<style scoped>\n",
       "    .dataframe tbody tr th:only-of-type {\n",
       "        vertical-align: middle;\n",
       "    }\n",
       "\n",
       "    .dataframe tbody tr th {\n",
       "        vertical-align: top;\n",
       "    }\n",
       "\n",
       "    .dataframe thead th {\n",
       "        text-align: right;\n",
       "    }\n",
       "</style>\n",
       "<table border=\"1\" class=\"dataframe\">\n",
       "  <thead>\n",
       "    <tr style=\"text-align: right;\">\n",
       "      <th></th>\n",
       "      <th>id</th>\n",
       "      <th>name</th>\n",
       "      <th>latitude</th>\n",
       "      <th>longitude</th>\n",
       "      <th>elevation</th>\n",
       "    </tr>\n",
       "  </thead>\n",
       "  <tbody>\n",
       "    <tr>\n",
       "      <th>0</th>\n",
       "      <td>GHCND:US1CTFR0022</td>\n",
       "      <td>STAMFORD 2.6 SSW, CT US</td>\n",
       "      <td>41.064100</td>\n",
       "      <td>-73.577000</td>\n",
       "      <td>36.6</td>\n",
       "    </tr>\n",
       "    <tr>\n",
       "      <th>1</th>\n",
       "      <td>GHCND:US1CTFR0039</td>\n",
       "      <td>STAMFORD 4.2 S, CT US</td>\n",
       "      <td>41.037788</td>\n",
       "      <td>-73.568176</td>\n",
       "      <td>6.4</td>\n",
       "    </tr>\n",
       "    <tr>\n",
       "      <th>2</th>\n",
       "      <td>GHCND:US1NJBG0001</td>\n",
       "      <td>BERGENFIELD 0.3 SW, NJ US</td>\n",
       "      <td>40.921298</td>\n",
       "      <td>-74.001983</td>\n",
       "      <td>20.1</td>\n",
       "    </tr>\n",
       "    <tr>\n",
       "      <th>3</th>\n",
       "      <td>GHCND:US1NJBG0002</td>\n",
       "      <td>SADDLE BROOK TWP 0.6 E, NJ US</td>\n",
       "      <td>40.902694</td>\n",
       "      <td>-74.083358</td>\n",
       "      <td>16.8</td>\n",
       "    </tr>\n",
       "    <tr>\n",
       "      <th>4</th>\n",
       "      <td>GHCND:US1NJBG0003</td>\n",
       "      <td>TENAFLY 1.3 W, NJ US</td>\n",
       "      <td>40.914670</td>\n",
       "      <td>-73.977500</td>\n",
       "      <td>21.6</td>\n",
       "    </tr>\n",
       "    <tr>\n",
       "      <th>...</th>\n",
       "      <td>...</td>\n",
       "      <td>...</td>\n",
       "      <td>...</td>\n",
       "      <td>...</td>\n",
       "      <td>...</td>\n",
       "    </tr>\n",
       "    <tr>\n",
       "      <th>325</th>\n",
       "      <td>GHCND:USW00054787</td>\n",
       "      <td>FARMINGDALE REPUBLIC AIRPORT, NY US</td>\n",
       "      <td>40.734430</td>\n",
       "      <td>-73.416370</td>\n",
       "      <td>22.8</td>\n",
       "    </tr>\n",
       "    <tr>\n",
       "      <th>326</th>\n",
       "      <td>GHCND:USW00094728</td>\n",
       "      <td>NY CITY CENTRAL PARK, NY US</td>\n",
       "      <td>40.778980</td>\n",
       "      <td>-73.969250</td>\n",
       "      <td>42.7</td>\n",
       "    </tr>\n",
       "    <tr>\n",
       "      <th>327</th>\n",
       "      <td>GHCND:USW00094741</td>\n",
       "      <td>TETERBORO AIRPORT, NJ US</td>\n",
       "      <td>40.858980</td>\n",
       "      <td>-74.056160</td>\n",
       "      <td>0.8</td>\n",
       "    </tr>\n",
       "    <tr>\n",
       "      <th>328</th>\n",
       "      <td>GHCND:USW00094745</td>\n",
       "      <td>WESTCHESTER CO AIRPORT, NY US</td>\n",
       "      <td>41.062360</td>\n",
       "      <td>-73.704540</td>\n",
       "      <td>112.9</td>\n",
       "    </tr>\n",
       "    <tr>\n",
       "      <th>329</th>\n",
       "      <td>GHCND:USW00094789</td>\n",
       "      <td>JFK INTERNATIONAL AIRPORT, NY US</td>\n",
       "      <td>40.639150</td>\n",
       "      <td>-73.763900</td>\n",
       "      <td>2.7</td>\n",
       "    </tr>\n",
       "  </tbody>\n",
       "</table>\n",
       "<p>330 rows × 5 columns</p>\n",
       "</div>"
      ],
      "text/plain": [
       "                    id                                 name   latitude  \\\n",
       "0    GHCND:US1CTFR0022              STAMFORD 2.6 SSW, CT US  41.064100   \n",
       "1    GHCND:US1CTFR0039                STAMFORD 4.2 S, CT US  41.037788   \n",
       "2    GHCND:US1NJBG0001            BERGENFIELD 0.3 SW, NJ US  40.921298   \n",
       "3    GHCND:US1NJBG0002        SADDLE BROOK TWP 0.6 E, NJ US  40.902694   \n",
       "4    GHCND:US1NJBG0003                 TENAFLY 1.3 W, NJ US  40.914670   \n",
       "..                 ...                                  ...        ...   \n",
       "325  GHCND:USW00054787  FARMINGDALE REPUBLIC AIRPORT, NY US  40.734430   \n",
       "326  GHCND:USW00094728          NY CITY CENTRAL PARK, NY US  40.778980   \n",
       "327  GHCND:USW00094741             TETERBORO AIRPORT, NJ US  40.858980   \n",
       "328  GHCND:USW00094745        WESTCHESTER CO AIRPORT, NY US  41.062360   \n",
       "329  GHCND:USW00094789     JFK INTERNATIONAL AIRPORT, NY US  40.639150   \n",
       "\n",
       "     longitude  elevation  \n",
       "0   -73.577000       36.6  \n",
       "1   -73.568176        6.4  \n",
       "2   -74.001983       20.1  \n",
       "3   -74.083358       16.8  \n",
       "4   -73.977500       21.6  \n",
       "..         ...        ...  \n",
       "325 -73.416370       22.8  \n",
       "326 -73.969250       42.7  \n",
       "327 -74.056160        0.8  \n",
       "328 -73.704540      112.9  \n",
       "329 -73.763900        2.7  \n",
       "\n",
       "[330 rows x 5 columns]"
      ]
     },
     "execution_count": 26,
     "metadata": {},
     "output_type": "execute_result"
    }
   ],
   "source": [
    "ws = pd.read_csv('weather_stations.csv')\n",
    "ws "
   ]
  }
 ],
 "metadata": {
  "kernelspec": {
   "display_name": "Python 3 (ipykernel)",
   "language": "python",
   "name": "python3"
  },
  "language_info": {
   "codemirror_mode": {
    "name": "ipython",
    "version": 3
   },
   "file_extension": ".py",
   "mimetype": "text/x-python",
   "name": "python",
   "nbconvert_exporter": "python",
   "pygments_lexer": "ipython3",
   "version": "3.12.7"
  }
 },
 "nbformat": 4,
 "nbformat_minor": 5
}
