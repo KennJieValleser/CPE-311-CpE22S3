{
 "cells": [
  {
   "cell_type": "markdown",
   "id": "edd82743-a1d2-46f3-a230-2dc8a42c5a44",
   "metadata": {},
   "source": [
    "# Database-style Operations on Dataframes"
   ]
  },
  {
   "cell_type": "markdown",
   "id": "f9b0f45f-fdee-4839-8a16-3061d4a48bd8",
   "metadata": {},
   "source": [
    "### About the data"
   ]
  },
  {
   "cell_type": "markdown",
   "id": "54a3217e-044f-40f7-889a-bc063dd366db",
   "metadata": {},
   "source": [
    "In this notebook, we will using daily weather data that was taken from the [National Centers for Environmental Information (NCEI) API](https://www.ncdc.noaa.gov/cdo-web/webservices/v2) . The data collection notebook contains\n",
    "the process that was followed to collect the data.\n",
    "\n",
    "    \n",
    "Note: The NCEI is part of the National Oceanic and Atmospheric Administration (NOAA) and, as you can see from the URL for the API, this resource was created when the\n",
    "NCEI was called the NCDC. Should the URL for this resource change in the future, you can search for the NCEI weather API to find the updated one."
   ]
  },
  {
   "cell_type": "markdown",
   "id": "e2ab3f7c-dc18-42fc-a636-20e0423c9499",
   "metadata": {},
   "source": [
    "### Background on the data"
   ]
  },
  {
   "cell_type": "markdown",
   "id": "663fa82f-ecbe-4197-bbce-fcfbb18aa627",
   "metadata": {},
   "source": [
    "Data meanings:"
   ]
  },
  {
   "cell_type": "markdown",
   "id": "928bf0e1-a363-4ce6-8081-b3b0010c3058",
   "metadata": {},
   "source": [
    "- <b>PRCP </b>: precipitation in millimeters\n",
    "- <b>SNOW </b>: snowfall in millimeters\n",
    "- <b>SNWD </b>: snow depth in millimeters\n",
    "- <b>TMAX </b>: maximum daily temperature in Celsius\n",
    "- <b>TMIN </b>: minimum daily temperature in Celsius\n",
    "- <b>TOBS </b> : temperature at time of observation in Celsius\n",
    "- <b> WESF </b> : water equivalent of snow in millimeters"
   ]
  },
  {
   "cell_type": "markdown",
   "id": "b4418098-a885-46c1-be31-6c234e2faa5c",
   "metadata": {},
   "source": [
    "### Setup"
   ]
  },
  {
   "cell_type": "code",
   "execution_count": 86,
   "id": "3811d445-0d4e-40dc-bc3e-74a4a572052f",
   "metadata": {},
   "outputs": [
    {
     "data": {
      "text/html": [
       "<div>\n",
       "<style scoped>\n",
       "    .dataframe tbody tr th:only-of-type {\n",
       "        vertical-align: middle;\n",
       "    }\n",
       "\n",
       "    .dataframe tbody tr th {\n",
       "        vertical-align: top;\n",
       "    }\n",
       "\n",
       "    .dataframe thead th {\n",
       "        text-align: right;\n",
       "    }\n",
       "</style>\n",
       "<table border=\"1\" class=\"dataframe\">\n",
       "  <thead>\n",
       "    <tr style=\"text-align: right;\">\n",
       "      <th></th>\n",
       "      <th>date</th>\n",
       "      <th>datatype</th>\n",
       "      <th>station</th>\n",
       "      <th>attributes</th>\n",
       "      <th>value</th>\n",
       "    </tr>\n",
       "  </thead>\n",
       "  <tbody>\n",
       "    <tr>\n",
       "      <th>0</th>\n",
       "      <td>2018-01-01T00:00:00</td>\n",
       "      <td>PRCP</td>\n",
       "      <td>GHCND:US1CTFR0039</td>\n",
       "      <td>,,N,0800</td>\n",
       "      <td>0.0</td>\n",
       "    </tr>\n",
       "    <tr>\n",
       "      <th>1</th>\n",
       "      <td>2018-01-01T00:00:00</td>\n",
       "      <td>PRCP</td>\n",
       "      <td>GHCND:US1NJBG0015</td>\n",
       "      <td>,,N,1050</td>\n",
       "      <td>0.0</td>\n",
       "    </tr>\n",
       "    <tr>\n",
       "      <th>2</th>\n",
       "      <td>2018-01-01T00:00:00</td>\n",
       "      <td>SNOW</td>\n",
       "      <td>GHCND:US1NJBG0015</td>\n",
       "      <td>,,N,1050</td>\n",
       "      <td>0.0</td>\n",
       "    </tr>\n",
       "    <tr>\n",
       "      <th>3</th>\n",
       "      <td>2018-01-01T00:00:00</td>\n",
       "      <td>PRCP</td>\n",
       "      <td>GHCND:US1NJBG0017</td>\n",
       "      <td>,,N,0920</td>\n",
       "      <td>0.0</td>\n",
       "    </tr>\n",
       "    <tr>\n",
       "      <th>4</th>\n",
       "      <td>2018-01-01T00:00:00</td>\n",
       "      <td>SNOW</td>\n",
       "      <td>GHCND:US1NJBG0017</td>\n",
       "      <td>,,N,0920</td>\n",
       "      <td>0.0</td>\n",
       "    </tr>\n",
       "  </tbody>\n",
       "</table>\n",
       "</div>"
      ],
      "text/plain": [
       "                  date datatype            station attributes  value\n",
       "0  2018-01-01T00:00:00     PRCP  GHCND:US1CTFR0039   ,,N,0800    0.0\n",
       "1  2018-01-01T00:00:00     PRCP  GHCND:US1NJBG0015   ,,N,1050    0.0\n",
       "2  2018-01-01T00:00:00     SNOW  GHCND:US1NJBG0015   ,,N,1050    0.0\n",
       "3  2018-01-01T00:00:00     PRCP  GHCND:US1NJBG0017   ,,N,0920    0.0\n",
       "4  2018-01-01T00:00:00     SNOW  GHCND:US1NJBG0017   ,,N,0920    0.0"
      ]
     },
     "execution_count": 86,
     "metadata": {},
     "output_type": "execute_result"
    }
   ],
   "source": [
    "import pandas as pd\n",
    "weather = pd.read_csv('nyc_weather_2018.csv')\n",
    "weather.head()"
   ]
  },
  {
   "cell_type": "markdown",
   "id": "1cdf3209-9f32-403b-972c-fcdfe55ff8fb",
   "metadata": {},
   "source": [
    "### Querying DataFrames"
   ]
  },
  {
   "cell_type": "markdown",
   "id": "8fd9b4e0-a8dc-4a4b-bbdf-bf84fb32cc5a",
   "metadata": {},
   "source": [
    "The query() method is an easier way of filtering based on some criteria. For example, we can use it to find all entries where snow was recorded:"
   ]
  },
  {
   "cell_type": "code",
   "execution_count": 87,
   "id": "169890ce-bd34-48de-b6a4-be69cc9ec0ae",
   "metadata": {},
   "outputs": [
    {
     "data": {
      "text/html": [
       "<div>\n",
       "<style scoped>\n",
       "    .dataframe tbody tr th:only-of-type {\n",
       "        vertical-align: middle;\n",
       "    }\n",
       "\n",
       "    .dataframe tbody tr th {\n",
       "        vertical-align: top;\n",
       "    }\n",
       "\n",
       "    .dataframe thead th {\n",
       "        text-align: right;\n",
       "    }\n",
       "</style>\n",
       "<table border=\"1\" class=\"dataframe\">\n",
       "  <thead>\n",
       "    <tr style=\"text-align: right;\">\n",
       "      <th></th>\n",
       "      <th>date</th>\n",
       "      <th>datatype</th>\n",
       "      <th>station</th>\n",
       "      <th>attributes</th>\n",
       "      <th>value</th>\n",
       "    </tr>\n",
       "  </thead>\n",
       "  <tbody>\n",
       "    <tr>\n",
       "      <th>127</th>\n",
       "      <td>2018-01-01T00:00:00</td>\n",
       "      <td>SNOW</td>\n",
       "      <td>GHCND:US1NYWC0019</td>\n",
       "      <td>,,N,1700</td>\n",
       "      <td>25.0</td>\n",
       "    </tr>\n",
       "    <tr>\n",
       "      <th>816</th>\n",
       "      <td>2018-01-04T00:00:00</td>\n",
       "      <td>SNOW</td>\n",
       "      <td>GHCND:US1NJBG0015</td>\n",
       "      <td>,,N,1600</td>\n",
       "      <td>229.0</td>\n",
       "    </tr>\n",
       "    <tr>\n",
       "      <th>819</th>\n",
       "      <td>2018-01-04T00:00:00</td>\n",
       "      <td>SNOW</td>\n",
       "      <td>GHCND:US1NJBG0017</td>\n",
       "      <td>,,N,0830</td>\n",
       "      <td>10.0</td>\n",
       "    </tr>\n",
       "    <tr>\n",
       "      <th>823</th>\n",
       "      <td>2018-01-04T00:00:00</td>\n",
       "      <td>SNOW</td>\n",
       "      <td>GHCND:US1NJBG0018</td>\n",
       "      <td>,,N,0910</td>\n",
       "      <td>46.0</td>\n",
       "    </tr>\n",
       "    <tr>\n",
       "      <th>830</th>\n",
       "      <td>2018-01-04T00:00:00</td>\n",
       "      <td>SNOW</td>\n",
       "      <td>GHCND:US1NJES0018</td>\n",
       "      <td>,,N,0700</td>\n",
       "      <td>10.0</td>\n",
       "    </tr>\n",
       "  </tbody>\n",
       "</table>\n",
       "</div>"
      ],
      "text/plain": [
       "                    date datatype            station attributes  value\n",
       "127  2018-01-01T00:00:00     SNOW  GHCND:US1NYWC0019   ,,N,1700   25.0\n",
       "816  2018-01-04T00:00:00     SNOW  GHCND:US1NJBG0015   ,,N,1600  229.0\n",
       "819  2018-01-04T00:00:00     SNOW  GHCND:US1NJBG0017   ,,N,0830   10.0\n",
       "823  2018-01-04T00:00:00     SNOW  GHCND:US1NJBG0018   ,,N,0910   46.0\n",
       "830  2018-01-04T00:00:00     SNOW  GHCND:US1NJES0018   ,,N,0700   10.0"
      ]
     },
     "execution_count": 87,
     "metadata": {},
     "output_type": "execute_result"
    }
   ],
   "source": [
    "snowdata = weather.query('datatype == \"SNOW\" and value > 0')\n",
    "snowdata.head(5)"
   ]
  },
  {
   "cell_type": "markdown",
   "id": "b331bb5e-7fef-456f-ac7f-899c6b5eb6a9",
   "metadata": {},
   "source": [
    "This is equivalent to quering the data/weather.db SQLite database for SELECT * FROM weather WHERE datatype == \"SNOW\" AND value > 0 :"
   ]
  },
  {
   "cell_type": "code",
   "execution_count": 88,
   "id": "67011d5a-717b-40f8-a3f3-35632598ff74",
   "metadata": {},
   "outputs": [
    {
     "data": {
      "text/plain": [
       "True"
      ]
     },
     "execution_count": 88,
     "metadata": {},
     "output_type": "execute_result"
    }
   ],
   "source": [
    "import sqlite3\n",
    "\n",
    "with sqlite3.connect('weather.db') as connection:\n",
    "    snow_data_from_db = pd.read_sql(\n",
    "        'SELECT * FROM weather WHERE datatype == \"SNOW\" AND value > 0',\n",
    "        connection\n",
    "    )\n",
    "    \n",
    "snowdata.reset_index().drop(columns='index').equals(snow_data_from_db)"
   ]
  },
  {
   "cell_type": "markdown",
   "id": "7834923c-f943-4e3c-b4de-33170cfff2e5",
   "metadata": {},
   "source": [
    "Note this is also equivalent to creating Boolean masks:"
   ]
  },
  {
   "cell_type": "code",
   "execution_count": 89,
   "id": "5f636bfb-c387-45de-b08b-a71600e69045",
   "metadata": {},
   "outputs": [
    {
     "data": {
      "text/plain": [
       "True"
      ]
     },
     "execution_count": 89,
     "metadata": {},
     "output_type": "execute_result"
    }
   ],
   "source": [
    "weather[(weather.datatype == 'SNOW') & (weather.value > 0)].equals(snowdata)"
   ]
  },
  {
   "cell_type": "markdown",
   "id": "2c8c5181-b02c-4f0c-b994-b017d92a32e9",
   "metadata": {},
   "source": [
    "### Merging DataFrames"
   ]
  },
  {
   "cell_type": "markdown",
   "id": "2b685784-fec2-49f1-85e4-7d31f08521de",
   "metadata": {},
   "source": [
    "We have data for many different stations each day; however, we don't know what the stations are just their IDs. We can join the data in the data/weather_stations.csv\n",
    "file which contains information from the stations endpoint of the NCEI API. Consult the weather_data_collection.ipynb notebook to see how this was collected. It looks like this:"
   ]
  },
  {
   "cell_type": "code",
   "execution_count": 90,
   "id": "44e61d50-da33-4c75-ae11-3aaf01c96c46",
   "metadata": {},
   "outputs": [
    {
     "data": {
      "text/html": [
       "<div>\n",
       "<style scoped>\n",
       "    .dataframe tbody tr th:only-of-type {\n",
       "        vertical-align: middle;\n",
       "    }\n",
       "\n",
       "    .dataframe tbody tr th {\n",
       "        vertical-align: top;\n",
       "    }\n",
       "\n",
       "    .dataframe thead th {\n",
       "        text-align: right;\n",
       "    }\n",
       "</style>\n",
       "<table border=\"1\" class=\"dataframe\">\n",
       "  <thead>\n",
       "    <tr style=\"text-align: right;\">\n",
       "      <th></th>\n",
       "      <th>id</th>\n",
       "      <th>name</th>\n",
       "      <th>latitude</th>\n",
       "      <th>longitude</th>\n",
       "      <th>elevation</th>\n",
       "    </tr>\n",
       "  </thead>\n",
       "  <tbody>\n",
       "    <tr>\n",
       "      <th>0</th>\n",
       "      <td>GHCND:US1CTFR0022</td>\n",
       "      <td>STAMFORD 2.6 SSW, CT US</td>\n",
       "      <td>41.064100</td>\n",
       "      <td>-73.577000</td>\n",
       "      <td>36.6</td>\n",
       "    </tr>\n",
       "    <tr>\n",
       "      <th>1</th>\n",
       "      <td>GHCND:US1CTFR0039</td>\n",
       "      <td>STAMFORD 4.2 S, CT US</td>\n",
       "      <td>41.037788</td>\n",
       "      <td>-73.568176</td>\n",
       "      <td>6.4</td>\n",
       "    </tr>\n",
       "    <tr>\n",
       "      <th>2</th>\n",
       "      <td>GHCND:US1NJBG0001</td>\n",
       "      <td>BERGENFIELD 0.3 SW, NJ US</td>\n",
       "      <td>40.921298</td>\n",
       "      <td>-74.001983</td>\n",
       "      <td>20.1</td>\n",
       "    </tr>\n",
       "    <tr>\n",
       "      <th>3</th>\n",
       "      <td>GHCND:US1NJBG0002</td>\n",
       "      <td>SADDLE BROOK TWP 0.6 E, NJ US</td>\n",
       "      <td>40.902694</td>\n",
       "      <td>-74.083358</td>\n",
       "      <td>16.8</td>\n",
       "    </tr>\n",
       "    <tr>\n",
       "      <th>4</th>\n",
       "      <td>GHCND:US1NJBG0003</td>\n",
       "      <td>TENAFLY 1.3 W, NJ US</td>\n",
       "      <td>40.914670</td>\n",
       "      <td>-73.977500</td>\n",
       "      <td>21.6</td>\n",
       "    </tr>\n",
       "  </tbody>\n",
       "</table>\n",
       "</div>"
      ],
      "text/plain": [
       "                  id                           name   latitude  longitude  \\\n",
       "0  GHCND:US1CTFR0022        STAMFORD 2.6 SSW, CT US  41.064100 -73.577000   \n",
       "1  GHCND:US1CTFR0039          STAMFORD 4.2 S, CT US  41.037788 -73.568176   \n",
       "2  GHCND:US1NJBG0001      BERGENFIELD 0.3 SW, NJ US  40.921298 -74.001983   \n",
       "3  GHCND:US1NJBG0002  SADDLE BROOK TWP 0.6 E, NJ US  40.902694 -74.083358   \n",
       "4  GHCND:US1NJBG0003           TENAFLY 1.3 W, NJ US  40.914670 -73.977500   \n",
       "\n",
       "   elevation  \n",
       "0       36.6  \n",
       "1        6.4  \n",
       "2       20.1  \n",
       "3       16.8  \n",
       "4       21.6  "
      ]
     },
     "execution_count": 90,
     "metadata": {},
     "output_type": "execute_result"
    }
   ],
   "source": [
    "station_info = pd.read_csv('weather_stations.csv')\n",
    "station_info.head()"
   ]
  },
  {
   "cell_type": "markdown",
   "id": "bcbf20bb-ca65-486a-818f-c4da5c9baaff",
   "metadata": {},
   "source": [
    "As a reminder, the weather data looks like this:"
   ]
  },
  {
   "cell_type": "code",
   "execution_count": 91,
   "id": "bb6c1b23-16f1-42ea-ac15-dfb6cb9537cb",
   "metadata": {},
   "outputs": [
    {
     "data": {
      "text/html": [
       "<div>\n",
       "<style scoped>\n",
       "    .dataframe tbody tr th:only-of-type {\n",
       "        vertical-align: middle;\n",
       "    }\n",
       "\n",
       "    .dataframe tbody tr th {\n",
       "        vertical-align: top;\n",
       "    }\n",
       "\n",
       "    .dataframe thead th {\n",
       "        text-align: right;\n",
       "    }\n",
       "</style>\n",
       "<table border=\"1\" class=\"dataframe\">\n",
       "  <thead>\n",
       "    <tr style=\"text-align: right;\">\n",
       "      <th></th>\n",
       "      <th>date</th>\n",
       "      <th>datatype</th>\n",
       "      <th>station</th>\n",
       "      <th>attributes</th>\n",
       "      <th>value</th>\n",
       "    </tr>\n",
       "  </thead>\n",
       "  <tbody>\n",
       "    <tr>\n",
       "      <th>0</th>\n",
       "      <td>2018-01-01T00:00:00</td>\n",
       "      <td>PRCP</td>\n",
       "      <td>GHCND:US1CTFR0039</td>\n",
       "      <td>,,N,0800</td>\n",
       "      <td>0.0</td>\n",
       "    </tr>\n",
       "    <tr>\n",
       "      <th>1</th>\n",
       "      <td>2018-01-01T00:00:00</td>\n",
       "      <td>PRCP</td>\n",
       "      <td>GHCND:US1NJBG0015</td>\n",
       "      <td>,,N,1050</td>\n",
       "      <td>0.0</td>\n",
       "    </tr>\n",
       "    <tr>\n",
       "      <th>2</th>\n",
       "      <td>2018-01-01T00:00:00</td>\n",
       "      <td>SNOW</td>\n",
       "      <td>GHCND:US1NJBG0015</td>\n",
       "      <td>,,N,1050</td>\n",
       "      <td>0.0</td>\n",
       "    </tr>\n",
       "    <tr>\n",
       "      <th>3</th>\n",
       "      <td>2018-01-01T00:00:00</td>\n",
       "      <td>PRCP</td>\n",
       "      <td>GHCND:US1NJBG0017</td>\n",
       "      <td>,,N,0920</td>\n",
       "      <td>0.0</td>\n",
       "    </tr>\n",
       "    <tr>\n",
       "      <th>4</th>\n",
       "      <td>2018-01-01T00:00:00</td>\n",
       "      <td>SNOW</td>\n",
       "      <td>GHCND:US1NJBG0017</td>\n",
       "      <td>,,N,0920</td>\n",
       "      <td>0.0</td>\n",
       "    </tr>\n",
       "    <tr>\n",
       "      <th>...</th>\n",
       "      <td>...</td>\n",
       "      <td>...</td>\n",
       "      <td>...</td>\n",
       "      <td>...</td>\n",
       "      <td>...</td>\n",
       "    </tr>\n",
       "    <tr>\n",
       "      <th>90528</th>\n",
       "      <td>2018-12-31T00:00:00</td>\n",
       "      <td>WDF5</td>\n",
       "      <td>GHCND:USW00094789</td>\n",
       "      <td>,,W,</td>\n",
       "      <td>130.0</td>\n",
       "    </tr>\n",
       "    <tr>\n",
       "      <th>90529</th>\n",
       "      <td>2018-12-31T00:00:00</td>\n",
       "      <td>WSF2</td>\n",
       "      <td>GHCND:USW00094789</td>\n",
       "      <td>,,W,</td>\n",
       "      <td>9.8</td>\n",
       "    </tr>\n",
       "    <tr>\n",
       "      <th>90530</th>\n",
       "      <td>2018-12-31T00:00:00</td>\n",
       "      <td>WSF5</td>\n",
       "      <td>GHCND:USW00094789</td>\n",
       "      <td>,,W,</td>\n",
       "      <td>12.5</td>\n",
       "    </tr>\n",
       "    <tr>\n",
       "      <th>90531</th>\n",
       "      <td>2018-12-31T00:00:00</td>\n",
       "      <td>WT01</td>\n",
       "      <td>GHCND:USW00094789</td>\n",
       "      <td>,,W,</td>\n",
       "      <td>1.0</td>\n",
       "    </tr>\n",
       "    <tr>\n",
       "      <th>90532</th>\n",
       "      <td>2018-12-31T00:00:00</td>\n",
       "      <td>WT02</td>\n",
       "      <td>GHCND:USW00094789</td>\n",
       "      <td>,,W,</td>\n",
       "      <td>1.0</td>\n",
       "    </tr>\n",
       "  </tbody>\n",
       "</table>\n",
       "<p>90533 rows × 5 columns</p>\n",
       "</div>"
      ],
      "text/plain": [
       "                      date datatype            station attributes  value\n",
       "0      2018-01-01T00:00:00     PRCP  GHCND:US1CTFR0039   ,,N,0800    0.0\n",
       "1      2018-01-01T00:00:00     PRCP  GHCND:US1NJBG0015   ,,N,1050    0.0\n",
       "2      2018-01-01T00:00:00     SNOW  GHCND:US1NJBG0015   ,,N,1050    0.0\n",
       "3      2018-01-01T00:00:00     PRCP  GHCND:US1NJBG0017   ,,N,0920    0.0\n",
       "4      2018-01-01T00:00:00     SNOW  GHCND:US1NJBG0017   ,,N,0920    0.0\n",
       "...                    ...      ...                ...        ...    ...\n",
       "90528  2018-12-31T00:00:00     WDF5  GHCND:USW00094789       ,,W,  130.0\n",
       "90529  2018-12-31T00:00:00     WSF2  GHCND:USW00094789       ,,W,    9.8\n",
       "90530  2018-12-31T00:00:00     WSF5  GHCND:USW00094789       ,,W,   12.5\n",
       "90531  2018-12-31T00:00:00     WT01  GHCND:USW00094789       ,,W,    1.0\n",
       "90532  2018-12-31T00:00:00     WT02  GHCND:USW00094789       ,,W,    1.0\n",
       "\n",
       "[90533 rows x 5 columns]"
      ]
     },
     "execution_count": 91,
     "metadata": {},
     "output_type": "execute_result"
    }
   ],
   "source": [
    "weather"
   ]
  },
  {
   "cell_type": "markdown",
   "id": "71614b5a-88c8-402c-93db-be66f66ef383",
   "metadata": {},
   "source": [
    "We can join our data by matching up the station_info.id column with the weather.station column. Before doing that though, let's see how many unique values we have:"
   ]
  },
  {
   "cell_type": "code",
   "execution_count": 92,
   "id": "93933b5f-fdd3-490e-acf7-12c257893039",
   "metadata": {},
   "outputs": [
    {
     "data": {
      "text/plain": [
       "count                   330\n",
       "unique                  330\n",
       "top       GHCND:US1CTFR0022\n",
       "freq                      1\n",
       "Name: id, dtype: object"
      ]
     },
     "execution_count": 92,
     "metadata": {},
     "output_type": "execute_result"
    }
   ],
   "source": [
    "station_info.id.describe()"
   ]
  },
  {
   "cell_type": "markdown",
   "id": "98b44aa4-f6cd-4b48-bcb5-6f3ec709a206",
   "metadata": {},
   "source": [
    "While station_info has one row per station, the weather dataframe has many entries per station. Notice it also has fewer uniques:"
   ]
  },
  {
   "cell_type": "code",
   "execution_count": 93,
   "id": "2be34ffd-252c-4951-bbc3-f61ab28ac71c",
   "metadata": {},
   "outputs": [
    {
     "data": {
      "text/plain": [
       "count                 90533\n",
       "unique                  114\n",
       "top       GHCND:USW00014734\n",
       "freq                   6688\n",
       "Name: station, dtype: object"
      ]
     },
     "execution_count": 93,
     "metadata": {},
     "output_type": "execute_result"
    }
   ],
   "source": [
    "weather.station.describe()"
   ]
  },
  {
   "cell_type": "markdown",
   "id": "fdf64c83-fcb1-4622-bde9-e04b18e70c76",
   "metadata": {},
   "source": [
    "When working with joins, it is important to keep an eye on the row count. Some join types will lead to data loss:"
   ]
  },
  {
   "cell_type": "code",
   "execution_count": 94,
   "id": "45cd10f3-9f28-4292-b6f8-8381aab09c77",
   "metadata": {},
   "outputs": [
    {
     "data": {
      "text/plain": [
       "(330, 90533)"
      ]
     },
     "execution_count": 94,
     "metadata": {},
     "output_type": "execute_result"
    }
   ],
   "source": [
    "station_info.shape[0], weather.shape[0]"
   ]
  },
  {
   "cell_type": "code",
   "execution_count": 95,
   "id": "f0a82c72-77a0-43fa-b6d2-3858172a41da",
   "metadata": {},
   "outputs": [
    {
     "data": {
      "text/plain": [
       "[330, 90533]"
      ]
     },
     "execution_count": 95,
     "metadata": {},
     "output_type": "execute_result"
    }
   ],
   "source": [
    "def grc(*dfs):\n",
    "  return [df.shape[0] for df in dfs]\n",
    "grc(station_info, weather)"
   ]
  },
  {
   "cell_type": "markdown",
   "id": "2e29ed09-8130-48f7-84a2-97540463cf20",
   "metadata": {},
   "source": [
    "The map() function is more efficient than list comprehensions. We can couple this with getattr() to grab any attribute for multiple dataframes"
   ]
  },
  {
   "cell_type": "code",
   "execution_count": 96,
   "id": "7fce382b-77c2-46c7-86a2-04b09269423a",
   "metadata": {},
   "outputs": [
    {
     "data": {
      "text/plain": [
       "[(330, 5), (90533, 5)]"
      ]
     },
     "execution_count": 96,
     "metadata": {},
     "output_type": "execute_result"
    }
   ],
   "source": [
    "def getinf(attr, *dfs):\n",
    "  return list(map(lambda x: getattr(x, attr), dfs))\n",
    "getinf('shape', station_info,weather)"
   ]
  },
  {
   "cell_type": "markdown",
   "id": "4e9e82c3-9c87-4773-adec-2a5d88ea2e7b",
   "metadata": {},
   "source": [
    "By default merge() performs an inner join. We simply specify the columns to use for the join. The left dataframe is the one we call merge() on, and the right one is passed in as an argument:"
   ]
  },
  {
   "cell_type": "code",
   "execution_count": 97,
   "id": "04284587-60d3-4ef7-8424-ed1fe25a4b3b",
   "metadata": {},
   "outputs": [
    {
     "data": {
      "text/html": [
       "<div>\n",
       "<style scoped>\n",
       "    .dataframe tbody tr th:only-of-type {\n",
       "        vertical-align: middle;\n",
       "    }\n",
       "\n",
       "    .dataframe tbody tr th {\n",
       "        vertical-align: top;\n",
       "    }\n",
       "\n",
       "    .dataframe thead th {\n",
       "        text-align: right;\n",
       "    }\n",
       "</style>\n",
       "<table border=\"1\" class=\"dataframe\">\n",
       "  <thead>\n",
       "    <tr style=\"text-align: right;\">\n",
       "      <th></th>\n",
       "      <th>date</th>\n",
       "      <th>datatype</th>\n",
       "      <th>station</th>\n",
       "      <th>attributes</th>\n",
       "      <th>value</th>\n",
       "      <th>id</th>\n",
       "      <th>name</th>\n",
       "      <th>latitude</th>\n",
       "      <th>longitude</th>\n",
       "      <th>elevation</th>\n",
       "    </tr>\n",
       "  </thead>\n",
       "  <tbody>\n",
       "    <tr>\n",
       "      <th>66921</th>\n",
       "      <td>2018-09-27T00:00:00</td>\n",
       "      <td>TOBS</td>\n",
       "      <td>GHCND:USC00284987</td>\n",
       "      <td>,,7,0630</td>\n",
       "      <td>17.8</td>\n",
       "      <td>GHCND:USC00284987</td>\n",
       "      <td>LONG BRANCH OAKHURST, NJ US</td>\n",
       "      <td>40.296980</td>\n",
       "      <td>-74.001530</td>\n",
       "      <td>9.1</td>\n",
       "    </tr>\n",
       "    <tr>\n",
       "      <th>8091</th>\n",
       "      <td>2018-01-31T00:00:00</td>\n",
       "      <td>PRCP</td>\n",
       "      <td>GHCND:US1NYRC0002</td>\n",
       "      <td>T,,N,0700</td>\n",
       "      <td>0.0</td>\n",
       "      <td>GHCND:US1NYRC0002</td>\n",
       "      <td>STATEN ISLAND 1.4 SE, NY US</td>\n",
       "      <td>40.567385</td>\n",
       "      <td>-74.132695</td>\n",
       "      <td>21.9</td>\n",
       "    </tr>\n",
       "    <tr>\n",
       "      <th>85623</th>\n",
       "      <td>2018-12-11T00:00:00</td>\n",
       "      <td>SNWD</td>\n",
       "      <td>GHCND:US1NJMN0048</td>\n",
       "      <td>,,N,0700</td>\n",
       "      <td>0.0</td>\n",
       "      <td>GHCND:US1NJMN0048</td>\n",
       "      <td>LONG BRANCH 0.5 W, NJ US</td>\n",
       "      <td>40.296952</td>\n",
       "      <td>-74.001510</td>\n",
       "      <td>7.9</td>\n",
       "    </tr>\n",
       "    <tr>\n",
       "      <th>66887</th>\n",
       "      <td>2018-09-27T00:00:00</td>\n",
       "      <td>PRCP</td>\n",
       "      <td>GHCND:US1NYSF0062</td>\n",
       "      <td>,,N,0900</td>\n",
       "      <td>0.8</td>\n",
       "      <td>GHCND:US1NYSF0062</td>\n",
       "      <td>COPIAGUE 0.4 ENE, NY US</td>\n",
       "      <td>40.672621</td>\n",
       "      <td>-73.383889</td>\n",
       "      <td>3.7</td>\n",
       "    </tr>\n",
       "    <tr>\n",
       "      <th>52731</th>\n",
       "      <td>2018-07-29T00:00:00</td>\n",
       "      <td>TMAX</td>\n",
       "      <td>GHCND:USW00054787</td>\n",
       "      <td>,,W,</td>\n",
       "      <td>27.8</td>\n",
       "      <td>GHCND:USW00054787</td>\n",
       "      <td>FARMINGDALE REPUBLIC AIRPORT, NY US</td>\n",
       "      <td>40.734430</td>\n",
       "      <td>-73.416370</td>\n",
       "      <td>22.8</td>\n",
       "    </tr>\n",
       "  </tbody>\n",
       "</table>\n",
       "</div>"
      ],
      "text/plain": [
       "                      date datatype            station attributes  value  \\\n",
       "66921  2018-09-27T00:00:00     TOBS  GHCND:USC00284987   ,,7,0630   17.8   \n",
       "8091   2018-01-31T00:00:00     PRCP  GHCND:US1NYRC0002  T,,N,0700    0.0   \n",
       "85623  2018-12-11T00:00:00     SNWD  GHCND:US1NJMN0048   ,,N,0700    0.0   \n",
       "66887  2018-09-27T00:00:00     PRCP  GHCND:US1NYSF0062   ,,N,0900    0.8   \n",
       "52731  2018-07-29T00:00:00     TMAX  GHCND:USW00054787       ,,W,   27.8   \n",
       "\n",
       "                      id                                 name   latitude  \\\n",
       "66921  GHCND:USC00284987          LONG BRANCH OAKHURST, NJ US  40.296980   \n",
       "8091   GHCND:US1NYRC0002          STATEN ISLAND 1.4 SE, NY US  40.567385   \n",
       "85623  GHCND:US1NJMN0048             LONG BRANCH 0.5 W, NJ US  40.296952   \n",
       "66887  GHCND:US1NYSF0062              COPIAGUE 0.4 ENE, NY US  40.672621   \n",
       "52731  GHCND:USW00054787  FARMINGDALE REPUBLIC AIRPORT, NY US  40.734430   \n",
       "\n",
       "       longitude  elevation  \n",
       "66921 -74.001530        9.1  \n",
       "8091  -74.132695       21.9  \n",
       "85623 -74.001510        7.9  \n",
       "66887 -73.383889        3.7  \n",
       "52731 -73.416370       22.8  "
      ]
     },
     "execution_count": 97,
     "metadata": {},
     "output_type": "execute_result"
    }
   ],
   "source": [
    "injoin = weather.merge(station_info,left_on='station', right_on='id')\n",
    "injoin.sample(5, random_state=0)"
   ]
  },
  {
   "cell_type": "markdown",
   "id": "e35f2211-2110-45e4-9a1e-0f08d89dc59f",
   "metadata": {},
   "source": [
    "We can remove the duplication of information in the station and id columns by renaming one of them before the merge and then simply using on :"
   ]
  },
  {
   "cell_type": "code",
   "execution_count": 98,
   "id": "383cd691-3a27-46c6-a863-806e72cb6bb2",
   "metadata": {},
   "outputs": [
    {
     "data": {
      "text/html": [
       "<div>\n",
       "<style scoped>\n",
       "    .dataframe tbody tr th:only-of-type {\n",
       "        vertical-align: middle;\n",
       "    }\n",
       "\n",
       "    .dataframe tbody tr th {\n",
       "        vertical-align: top;\n",
       "    }\n",
       "\n",
       "    .dataframe thead th {\n",
       "        text-align: right;\n",
       "    }\n",
       "</style>\n",
       "<table border=\"1\" class=\"dataframe\">\n",
       "  <thead>\n",
       "    <tr style=\"text-align: right;\">\n",
       "      <th></th>\n",
       "      <th>date</th>\n",
       "      <th>datatype</th>\n",
       "      <th>station</th>\n",
       "      <th>attributes</th>\n",
       "      <th>value</th>\n",
       "      <th>name</th>\n",
       "      <th>latitude</th>\n",
       "      <th>longitude</th>\n",
       "      <th>elevation</th>\n",
       "    </tr>\n",
       "  </thead>\n",
       "  <tbody>\n",
       "    <tr>\n",
       "      <th>66921</th>\n",
       "      <td>2018-09-27T00:00:00</td>\n",
       "      <td>TOBS</td>\n",
       "      <td>GHCND:USC00284987</td>\n",
       "      <td>,,7,0630</td>\n",
       "      <td>17.8</td>\n",
       "      <td>LONG BRANCH OAKHURST, NJ US</td>\n",
       "      <td>40.296980</td>\n",
       "      <td>-74.001530</td>\n",
       "      <td>9.1</td>\n",
       "    </tr>\n",
       "    <tr>\n",
       "      <th>8091</th>\n",
       "      <td>2018-01-31T00:00:00</td>\n",
       "      <td>PRCP</td>\n",
       "      <td>GHCND:US1NYRC0002</td>\n",
       "      <td>T,,N,0700</td>\n",
       "      <td>0.0</td>\n",
       "      <td>STATEN ISLAND 1.4 SE, NY US</td>\n",
       "      <td>40.567385</td>\n",
       "      <td>-74.132695</td>\n",
       "      <td>21.9</td>\n",
       "    </tr>\n",
       "    <tr>\n",
       "      <th>85623</th>\n",
       "      <td>2018-12-11T00:00:00</td>\n",
       "      <td>SNWD</td>\n",
       "      <td>GHCND:US1NJMN0048</td>\n",
       "      <td>,,N,0700</td>\n",
       "      <td>0.0</td>\n",
       "      <td>LONG BRANCH 0.5 W, NJ US</td>\n",
       "      <td>40.296952</td>\n",
       "      <td>-74.001510</td>\n",
       "      <td>7.9</td>\n",
       "    </tr>\n",
       "    <tr>\n",
       "      <th>66887</th>\n",
       "      <td>2018-09-27T00:00:00</td>\n",
       "      <td>PRCP</td>\n",
       "      <td>GHCND:US1NYSF0062</td>\n",
       "      <td>,,N,0900</td>\n",
       "      <td>0.8</td>\n",
       "      <td>COPIAGUE 0.4 ENE, NY US</td>\n",
       "      <td>40.672621</td>\n",
       "      <td>-73.383889</td>\n",
       "      <td>3.7</td>\n",
       "    </tr>\n",
       "    <tr>\n",
       "      <th>52731</th>\n",
       "      <td>2018-07-29T00:00:00</td>\n",
       "      <td>TMAX</td>\n",
       "      <td>GHCND:USW00054787</td>\n",
       "      <td>,,W,</td>\n",
       "      <td>27.8</td>\n",
       "      <td>FARMINGDALE REPUBLIC AIRPORT, NY US</td>\n",
       "      <td>40.734430</td>\n",
       "      <td>-73.416370</td>\n",
       "      <td>22.8</td>\n",
       "    </tr>\n",
       "  </tbody>\n",
       "</table>\n",
       "</div>"
      ],
      "text/plain": [
       "                      date datatype            station attributes  value  \\\n",
       "66921  2018-09-27T00:00:00     TOBS  GHCND:USC00284987   ,,7,0630   17.8   \n",
       "8091   2018-01-31T00:00:00     PRCP  GHCND:US1NYRC0002  T,,N,0700    0.0   \n",
       "85623  2018-12-11T00:00:00     SNWD  GHCND:US1NJMN0048   ,,N,0700    0.0   \n",
       "66887  2018-09-27T00:00:00     PRCP  GHCND:US1NYSF0062   ,,N,0900    0.8   \n",
       "52731  2018-07-29T00:00:00     TMAX  GHCND:USW00054787       ,,W,   27.8   \n",
       "\n",
       "                                      name   latitude  longitude  elevation  \n",
       "66921          LONG BRANCH OAKHURST, NJ US  40.296980 -74.001530        9.1  \n",
       "8091           STATEN ISLAND 1.4 SE, NY US  40.567385 -74.132695       21.9  \n",
       "85623             LONG BRANCH 0.5 W, NJ US  40.296952 -74.001510        7.9  \n",
       "66887              COPIAGUE 0.4 ENE, NY US  40.672621 -73.383889        3.7  \n",
       "52731  FARMINGDALE REPUBLIC AIRPORT, NY US  40.734430 -73.416370       22.8  "
      ]
     },
     "execution_count": 98,
     "metadata": {},
     "output_type": "execute_result"
    }
   ],
   "source": [
    "weather.merge(station_info.rename(dict(id='station'),axis=1),on='station').sample(5, random_state=0)"
   ]
  },
  {
   "cell_type": "markdown",
   "id": "bafdac19-8fed-4e28-8d20-bb07daa6d14f",
   "metadata": {},
   "source": [
    "We are losing stations that don't have weather observations associated with them, if we don't want to lose these rows, we perform a right or left join instead of the inner join:"
   ]
  },
  {
   "cell_type": "code",
   "execution_count": 99,
   "id": "a7c08555-69b8-414f-b49c-12fa0ab3568c",
   "metadata": {},
   "outputs": [
    {
     "data": {
      "text/html": [
       "<div>\n",
       "<style scoped>\n",
       "    .dataframe tbody tr th:only-of-type {\n",
       "        vertical-align: middle;\n",
       "    }\n",
       "\n",
       "    .dataframe tbody tr th {\n",
       "        vertical-align: top;\n",
       "    }\n",
       "\n",
       "    .dataframe thead th {\n",
       "        text-align: right;\n",
       "    }\n",
       "</style>\n",
       "<table border=\"1\" class=\"dataframe\">\n",
       "  <thead>\n",
       "    <tr style=\"text-align: right;\">\n",
       "      <th></th>\n",
       "      <th>date</th>\n",
       "      <th>datatype</th>\n",
       "      <th>station</th>\n",
       "      <th>attributes</th>\n",
       "      <th>value</th>\n",
       "      <th>id</th>\n",
       "      <th>name</th>\n",
       "      <th>latitude</th>\n",
       "      <th>longitude</th>\n",
       "      <th>elevation</th>\n",
       "    </tr>\n",
       "  </thead>\n",
       "  <tbody>\n",
       "    <tr>\n",
       "      <th>90744</th>\n",
       "      <td>2018-12-31T00:00:00</td>\n",
       "      <td>WDF5</td>\n",
       "      <td>GHCND:USW00094789</td>\n",
       "      <td>,,W,</td>\n",
       "      <td>130.0</td>\n",
       "      <td>GHCND:USW00094789</td>\n",
       "      <td>JFK INTERNATIONAL AIRPORT, NY US</td>\n",
       "      <td>40.63915</td>\n",
       "      <td>-73.7639</td>\n",
       "      <td>2.7</td>\n",
       "    </tr>\n",
       "    <tr>\n",
       "      <th>90745</th>\n",
       "      <td>2018-12-31T00:00:00</td>\n",
       "      <td>WSF2</td>\n",
       "      <td>GHCND:USW00094789</td>\n",
       "      <td>,,W,</td>\n",
       "      <td>9.8</td>\n",
       "      <td>GHCND:USW00094789</td>\n",
       "      <td>JFK INTERNATIONAL AIRPORT, NY US</td>\n",
       "      <td>40.63915</td>\n",
       "      <td>-73.7639</td>\n",
       "      <td>2.7</td>\n",
       "    </tr>\n",
       "    <tr>\n",
       "      <th>90746</th>\n",
       "      <td>2018-12-31T00:00:00</td>\n",
       "      <td>WSF5</td>\n",
       "      <td>GHCND:USW00094789</td>\n",
       "      <td>,,W,</td>\n",
       "      <td>12.5</td>\n",
       "      <td>GHCND:USW00094789</td>\n",
       "      <td>JFK INTERNATIONAL AIRPORT, NY US</td>\n",
       "      <td>40.63915</td>\n",
       "      <td>-73.7639</td>\n",
       "      <td>2.7</td>\n",
       "    </tr>\n",
       "    <tr>\n",
       "      <th>90747</th>\n",
       "      <td>2018-12-31T00:00:00</td>\n",
       "      <td>WT01</td>\n",
       "      <td>GHCND:USW00094789</td>\n",
       "      <td>,,W,</td>\n",
       "      <td>1.0</td>\n",
       "      <td>GHCND:USW00094789</td>\n",
       "      <td>JFK INTERNATIONAL AIRPORT, NY US</td>\n",
       "      <td>40.63915</td>\n",
       "      <td>-73.7639</td>\n",
       "      <td>2.7</td>\n",
       "    </tr>\n",
       "    <tr>\n",
       "      <th>90748</th>\n",
       "      <td>2018-12-31T00:00:00</td>\n",
       "      <td>WT02</td>\n",
       "      <td>GHCND:USW00094789</td>\n",
       "      <td>,,W,</td>\n",
       "      <td>1.0</td>\n",
       "      <td>GHCND:USW00094789</td>\n",
       "      <td>JFK INTERNATIONAL AIRPORT, NY US</td>\n",
       "      <td>40.63915</td>\n",
       "      <td>-73.7639</td>\n",
       "      <td>2.7</td>\n",
       "    </tr>\n",
       "  </tbody>\n",
       "</table>\n",
       "</div>"
      ],
      "text/plain": [
       "                      date datatype            station attributes  value  \\\n",
       "90744  2018-12-31T00:00:00     WDF5  GHCND:USW00094789       ,,W,  130.0   \n",
       "90745  2018-12-31T00:00:00     WSF2  GHCND:USW00094789       ,,W,    9.8   \n",
       "90746  2018-12-31T00:00:00     WSF5  GHCND:USW00094789       ,,W,   12.5   \n",
       "90747  2018-12-31T00:00:00     WT01  GHCND:USW00094789       ,,W,    1.0   \n",
       "90748  2018-12-31T00:00:00     WT02  GHCND:USW00094789       ,,W,    1.0   \n",
       "\n",
       "                      id                              name  latitude  \\\n",
       "90744  GHCND:USW00094789  JFK INTERNATIONAL AIRPORT, NY US  40.63915   \n",
       "90745  GHCND:USW00094789  JFK INTERNATIONAL AIRPORT, NY US  40.63915   \n",
       "90746  GHCND:USW00094789  JFK INTERNATIONAL AIRPORT, NY US  40.63915   \n",
       "90747  GHCND:USW00094789  JFK INTERNATIONAL AIRPORT, NY US  40.63915   \n",
       "90748  GHCND:USW00094789  JFK INTERNATIONAL AIRPORT, NY US  40.63915   \n",
       "\n",
       "       longitude  elevation  \n",
       "90744   -73.7639        2.7  \n",
       "90745   -73.7639        2.7  \n",
       "90746   -73.7639        2.7  \n",
       "90747   -73.7639        2.7  \n",
       "90748   -73.7639        2.7  "
      ]
     },
     "execution_count": 99,
     "metadata": {},
     "output_type": "execute_result"
    }
   ],
   "source": [
    "left_join = station_info.merge(weather, left_on='id',right_on='station', how='left')\n",
    "right_join = weather.merge(station_info, left_on='station',right_on='id', how='right')\n",
    "\n",
    "right_join.tail()"
   ]
  },
  {
   "cell_type": "code",
   "execution_count": 100,
   "id": "092850aa-685c-42f1-9fd2-6cb316090b0b",
   "metadata": {},
   "outputs": [
    {
     "data": {
      "text/plain": [
       "True"
      ]
     },
     "execution_count": 100,
     "metadata": {},
     "output_type": "execute_result"
    }
   ],
   "source": [
    "left_join.sort_index(axis=1).sort_values(['date','station']).reset_index().drop(columns='index').equals(\n",
    "    right_join.sort_index(axis=1).sort_values(['date','station']).reset_index().drop(columns='index')\n",
    ")\n",
    "  "
   ]
  },
  {
   "cell_type": "markdown",
   "id": "6a2a95d5-d926-4c5c-b614-dc06fe7a3b0c",
   "metadata": {},
   "source": [
    "Note we have additional rows in the left and right joins because we kept all the stations that didn't have weather observations:"
   ]
  },
  {
   "cell_type": "code",
   "execution_count": 101,
   "id": "7db2edc1-1369-4bf5-b663-0c704d0bf15d",
   "metadata": {},
   "outputs": [
    {
     "data": {
      "text/plain": [
       "[(90533, 10), (90749, 10), (90749, 10)]"
      ]
     },
     "execution_count": 101,
     "metadata": {},
     "output_type": "execute_result"
    }
   ],
   "source": [
    "getinf('shape', injoin, left_join, right_join)"
   ]
  },
  {
   "cell_type": "markdown",
   "id": "22ccfaa9-1223-41c3-aea3-94650194cbb7",
   "metadata": {},
   "source": [
    "If we query the station information for stations that have NY in their name, believing that to be all the stations that record weather data for NYC and perform an outer join, we can see where the mismatches occur:"
   ]
  },
  {
   "cell_type": "code",
   "execution_count": 102,
   "id": "9c041819-b10f-4036-b498-8513d603a157",
   "metadata": {},
   "outputs": [
    {
     "data": {
      "text/html": [
       "<div>\n",
       "<style scoped>\n",
       "    .dataframe tbody tr th:only-of-type {\n",
       "        vertical-align: middle;\n",
       "    }\n",
       "\n",
       "    .dataframe tbody tr th {\n",
       "        vertical-align: top;\n",
       "    }\n",
       "\n",
       "    .dataframe thead th {\n",
       "        text-align: right;\n",
       "    }\n",
       "</style>\n",
       "<table border=\"1\" class=\"dataframe\">\n",
       "  <thead>\n",
       "    <tr style=\"text-align: right;\">\n",
       "      <th></th>\n",
       "      <th>date</th>\n",
       "      <th>datatype</th>\n",
       "      <th>station</th>\n",
       "      <th>attributes</th>\n",
       "      <th>value</th>\n",
       "      <th>id</th>\n",
       "      <th>name</th>\n",
       "      <th>latitude</th>\n",
       "      <th>longitude</th>\n",
       "      <th>elevation</th>\n",
       "      <th>_merge</th>\n",
       "    </tr>\n",
       "  </thead>\n",
       "  <tbody>\n",
       "    <tr>\n",
       "      <th>19271</th>\n",
       "      <td>2018-04-12T00:00:00</td>\n",
       "      <td>SNWD</td>\n",
       "      <td>GHCND:US1NJMS0089</td>\n",
       "      <td>,,N,0800</td>\n",
       "      <td>0.0</td>\n",
       "      <td>GHCND:US1NJMS0089</td>\n",
       "      <td>PARSIPPANY TROY HILLS TWP 1.3 NE, NJ US</td>\n",
       "      <td>40.871646</td>\n",
       "      <td>-74.405465</td>\n",
       "      <td>103.6</td>\n",
       "      <td>both</td>\n",
       "    </tr>\n",
       "    <tr>\n",
       "      <th>79459</th>\n",
       "      <td>2018-08-14T00:00:00</td>\n",
       "      <td>TMIN</td>\n",
       "      <td>GHCND:USW00094741</td>\n",
       "      <td>,,W,</td>\n",
       "      <td>21.1</td>\n",
       "      <td>NaN</td>\n",
       "      <td>NaN</td>\n",
       "      <td>NaN</td>\n",
       "      <td>NaN</td>\n",
       "      <td>NaN</td>\n",
       "      <td>left_only</td>\n",
       "    </tr>\n",
       "    <tr>\n",
       "      <th>48418</th>\n",
       "      <td>2018-03-08T00:00:00</td>\n",
       "      <td>WT04</td>\n",
       "      <td>GHCND:USC00301309</td>\n",
       "      <td>,,7,</td>\n",
       "      <td>1.0</td>\n",
       "      <td>GHCND:USC00301309</td>\n",
       "      <td>CENTERPORT, NY US</td>\n",
       "      <td>40.883450</td>\n",
       "      <td>-73.373090</td>\n",
       "      <td>9.1</td>\n",
       "      <td>both</td>\n",
       "    </tr>\n",
       "    <tr>\n",
       "      <th>89873</th>\n",
       "      <td>2018-11-19T00:00:00</td>\n",
       "      <td>TMIN</td>\n",
       "      <td>GHCND:USW00094789</td>\n",
       "      <td>,,W,2400</td>\n",
       "      <td>3.3</td>\n",
       "      <td>GHCND:USW00094789</td>\n",
       "      <td>JFK INTERNATIONAL AIRPORT, NY US</td>\n",
       "      <td>40.639150</td>\n",
       "      <td>-73.763900</td>\n",
       "      <td>2.7</td>\n",
       "      <td>both</td>\n",
       "    </tr>\n",
       "    <tr>\n",
       "      <th>7099</th>\n",
       "      <td>NaN</td>\n",
       "      <td>NaN</td>\n",
       "      <td>NaN</td>\n",
       "      <td>NaN</td>\n",
       "      <td>NaN</td>\n",
       "      <td>GHCND:US1NJHD0018</td>\n",
       "      <td>KEARNY 1.7 NNW, NJ US</td>\n",
       "      <td>40.774342</td>\n",
       "      <td>-74.137109</td>\n",
       "      <td>25.6</td>\n",
       "      <td>right_only</td>\n",
       "    </tr>\n",
       "    <tr>\n",
       "      <th>15029</th>\n",
       "      <td>NaN</td>\n",
       "      <td>NaN</td>\n",
       "      <td>NaN</td>\n",
       "      <td>NaN</td>\n",
       "      <td>NaN</td>\n",
       "      <td>GHCND:US1NJMS0036</td>\n",
       "      <td>PARSIPPANY TROY HILLS TWP 2.1 E, NJ US</td>\n",
       "      <td>40.865600</td>\n",
       "      <td>-74.385100</td>\n",
       "      <td>64.3</td>\n",
       "      <td>right_only</td>\n",
       "    </tr>\n",
       "  </tbody>\n",
       "</table>\n",
       "</div>"
      ],
      "text/plain": [
       "                      date datatype            station attributes  value  \\\n",
       "19271  2018-04-12T00:00:00     SNWD  GHCND:US1NJMS0089   ,,N,0800    0.0   \n",
       "79459  2018-08-14T00:00:00     TMIN  GHCND:USW00094741       ,,W,   21.1   \n",
       "48418  2018-03-08T00:00:00     WT04  GHCND:USC00301309       ,,7,    1.0   \n",
       "89873  2018-11-19T00:00:00     TMIN  GHCND:USW00094789   ,,W,2400    3.3   \n",
       "7099                   NaN      NaN                NaN        NaN    NaN   \n",
       "15029                  NaN      NaN                NaN        NaN    NaN   \n",
       "\n",
       "                      id                                     name   latitude  \\\n",
       "19271  GHCND:US1NJMS0089  PARSIPPANY TROY HILLS TWP 1.3 NE, NJ US  40.871646   \n",
       "79459                NaN                                      NaN        NaN   \n",
       "48418  GHCND:USC00301309                        CENTERPORT, NY US  40.883450   \n",
       "89873  GHCND:USW00094789         JFK INTERNATIONAL AIRPORT, NY US  40.639150   \n",
       "7099   GHCND:US1NJHD0018                    KEARNY 1.7 NNW, NJ US  40.774342   \n",
       "15029  GHCND:US1NJMS0036   PARSIPPANY TROY HILLS TWP 2.1 E, NJ US  40.865600   \n",
       "\n",
       "       longitude  elevation      _merge  \n",
       "19271 -74.405465      103.6        both  \n",
       "79459        NaN        NaN   left_only  \n",
       "48418 -73.373090        9.1        both  \n",
       "89873 -73.763900        2.7        both  \n",
       "7099  -74.137109       25.6  right_only  \n",
       "15029 -74.385100       64.3  right_only  "
      ]
     },
     "execution_count": 102,
     "metadata": {},
     "output_type": "execute_result"
    }
   ],
   "source": [
    "outer_join = weather.merge(\n",
    "    station_info[station_info.name.str.contains('NY')],\n",
    "    left_on='station',right_on='id', how='outer', indicator=True\n",
    ")\n",
    "pd.concat([outer_join.sample(4, random_state=0),outer_join[outer_join.station.isna()].head(2)]) # I used concat and not used append as it was an older version of pandas"
   ]
  },
  {
   "cell_type": "markdown",
   "id": "64cc81df-5a61-406f-8849-855b95a49373",
   "metadata": {},
   "source": [
    "These joins are equivalent to their SQL counterparts. Below is the inner join. Note that to use equals() you will have to do some manipulation of the dataframes to line them up:"
   ]
  },
  {
   "cell_type": "code",
   "execution_count": 103,
   "id": "8dcbd33a-c305-4428-85a2-da96b3464be9",
   "metadata": {},
   "outputs": [
    {
     "data": {
      "text/plain": [
       "True"
      ]
     },
     "execution_count": 103,
     "metadata": {},
     "output_type": "execute_result"
    }
   ],
   "source": [
    "import sqlite3 as sq3\n",
    "\n",
    "with sq3.connect('weather.db') as connection:\n",
    "  inner_join_from_db = pd.read_sql('SELECT * FROM weather JOIN stations ON weather.station == stations.id',connection)\n",
    "\n",
    "inner_join_from_db.shape == injoin.shape"
   ]
  },
  {
   "cell_type": "markdown",
   "id": "5c44f6c4-67ef-4f76-9c1d-91bb7eed0836",
   "metadata": {},
   "source": [
    "Revisit the dirty data from the previous module."
   ]
  },
  {
   "cell_type": "code",
   "execution_count": 104,
   "id": "4d7fa917-1564-459d-81da-eb5a7e8bff1d",
   "metadata": {},
   "outputs": [
    {
     "data": {
      "text/html": [
       "<div>\n",
       "<style scoped>\n",
       "    .dataframe tbody tr th:only-of-type {\n",
       "        vertical-align: middle;\n",
       "    }\n",
       "\n",
       "    .dataframe tbody tr th {\n",
       "        vertical-align: top;\n",
       "    }\n",
       "\n",
       "    .dataframe thead th {\n",
       "        text-align: right;\n",
       "    }\n",
       "</style>\n",
       "<table border=\"1\" class=\"dataframe\">\n",
       "  <thead>\n",
       "    <tr style=\"text-align: right;\">\n",
       "      <th></th>\n",
       "      <th>station</th>\n",
       "      <th>PRCP</th>\n",
       "      <th>SNOW</th>\n",
       "      <th>TMAX</th>\n",
       "      <th>TMIN</th>\n",
       "      <th>TOBS</th>\n",
       "      <th>WESF</th>\n",
       "      <th>inclement_weather</th>\n",
       "    </tr>\n",
       "    <tr>\n",
       "      <th>date</th>\n",
       "      <th></th>\n",
       "      <th></th>\n",
       "      <th></th>\n",
       "      <th></th>\n",
       "      <th></th>\n",
       "      <th></th>\n",
       "      <th></th>\n",
       "      <th></th>\n",
       "    </tr>\n",
       "  </thead>\n",
       "  <tbody>\n",
       "    <tr>\n",
       "      <th>2018-01-01T00:00:00</th>\n",
       "      <td>?</td>\n",
       "      <td>0.0</td>\n",
       "      <td>0.0</td>\n",
       "      <td>5505.0</td>\n",
       "      <td>-40.0</td>\n",
       "      <td>NaN</td>\n",
       "      <td>NaN</td>\n",
       "      <td>NaN</td>\n",
       "    </tr>\n",
       "    <tr>\n",
       "      <th>2018-01-02T00:00:00</th>\n",
       "      <td>GHCND:USC00280907</td>\n",
       "      <td>0.0</td>\n",
       "      <td>0.0</td>\n",
       "      <td>-8.3</td>\n",
       "      <td>-16.1</td>\n",
       "      <td>-12.2</td>\n",
       "      <td>NaN</td>\n",
       "      <td>False</td>\n",
       "    </tr>\n",
       "    <tr>\n",
       "      <th>2018-01-03T00:00:00</th>\n",
       "      <td>GHCND:USC00280907</td>\n",
       "      <td>0.0</td>\n",
       "      <td>0.0</td>\n",
       "      <td>-4.4</td>\n",
       "      <td>-13.9</td>\n",
       "      <td>-13.3</td>\n",
       "      <td>NaN</td>\n",
       "      <td>False</td>\n",
       "    </tr>\n",
       "    <tr>\n",
       "      <th>2018-01-04T00:00:00</th>\n",
       "      <td>?</td>\n",
       "      <td>20.6</td>\n",
       "      <td>229.0</td>\n",
       "      <td>5505.0</td>\n",
       "      <td>-40.0</td>\n",
       "      <td>NaN</td>\n",
       "      <td>19.3</td>\n",
       "      <td>True</td>\n",
       "    </tr>\n",
       "    <tr>\n",
       "      <th>2018-01-05T00:00:00</th>\n",
       "      <td>?</td>\n",
       "      <td>0.3</td>\n",
       "      <td>NaN</td>\n",
       "      <td>5505.0</td>\n",
       "      <td>-40.0</td>\n",
       "      <td>NaN</td>\n",
       "      <td>NaN</td>\n",
       "      <td>NaN</td>\n",
       "    </tr>\n",
       "  </tbody>\n",
       "</table>\n",
       "</div>"
      ],
      "text/plain": [
       "                               station  PRCP   SNOW    TMAX  TMIN  TOBS  WESF  \\\n",
       "date                                                                            \n",
       "2018-01-01T00:00:00                  ?   0.0    0.0  5505.0 -40.0   NaN   NaN   \n",
       "2018-01-02T00:00:00  GHCND:USC00280907   0.0    0.0    -8.3 -16.1 -12.2   NaN   \n",
       "2018-01-03T00:00:00  GHCND:USC00280907   0.0    0.0    -4.4 -13.9 -13.3   NaN   \n",
       "2018-01-04T00:00:00                  ?  20.6  229.0  5505.0 -40.0   NaN  19.3   \n",
       "2018-01-05T00:00:00                  ?   0.3    NaN  5505.0 -40.0   NaN   NaN   \n",
       "\n",
       "                    inclement_weather  \n",
       "date                                   \n",
       "2018-01-01T00:00:00               NaN  \n",
       "2018-01-02T00:00:00             False  \n",
       "2018-01-03T00:00:00             False  \n",
       "2018-01-04T00:00:00              True  \n",
       "2018-01-05T00:00:00               NaN  "
      ]
     },
     "execution_count": 104,
     "metadata": {},
     "output_type": "execute_result"
    }
   ],
   "source": [
    "dirty_data = pd.read_csv('dirty_data2.csv', index_col='date').drop_duplicates().drop(columns='SNWD')\n",
    "dirty_data.head()"
   ]
  },
  {
   "cell_type": "markdown",
   "id": "588d18da-a085-46da-87f3-66867529c648",
   "metadata": {},
   "source": [
    "We need to create two dataframes for the join. We will drop some unecessary columns as well for easier viewing:"
   ]
  },
  {
   "cell_type": "code",
   "execution_count": 105,
   "id": "b4d45d1c-cb13-44da-b5dd-006cc6438ac1",
   "metadata": {},
   "outputs": [],
   "source": [
    "valid_station = dirty_data.query('station != \"?\"').copy().drop(columns=['WESF','station'])\n",
    "sta_with_wesf = dirty_data.query('station == \"?\"').copy().drop(columns=['station', 'TOBS', 'TMIN', 'TMAX'])"
   ]
  },
  {
   "cell_type": "markdown",
   "id": "19bd27e9-1d62-4d23-9135-f6c029e6215d",
   "metadata": {},
   "source": [
    "Our column for the join is the index in both dataframes, so we must specify left_index and right_index :"
   ]
  },
  {
   "cell_type": "code",
   "execution_count": 106,
   "id": "8baa84a5-85cc-486d-9775-c792b8df79c9",
   "metadata": {},
   "outputs": [
    {
     "data": {
      "text/html": [
       "<div>\n",
       "<style scoped>\n",
       "    .dataframe tbody tr th:only-of-type {\n",
       "        vertical-align: middle;\n",
       "    }\n",
       "\n",
       "    .dataframe tbody tr th {\n",
       "        vertical-align: top;\n",
       "    }\n",
       "\n",
       "    .dataframe thead th {\n",
       "        text-align: right;\n",
       "    }\n",
       "</style>\n",
       "<table border=\"1\" class=\"dataframe\">\n",
       "  <thead>\n",
       "    <tr style=\"text-align: right;\">\n",
       "      <th></th>\n",
       "      <th>PRCP_x</th>\n",
       "      <th>SNOW_x</th>\n",
       "      <th>TMAX</th>\n",
       "      <th>TMIN</th>\n",
       "      <th>TOBS</th>\n",
       "      <th>inclement_weather_x</th>\n",
       "      <th>PRCP_y</th>\n",
       "      <th>SNOW_y</th>\n",
       "      <th>WESF</th>\n",
       "      <th>inclement_weather_y</th>\n",
       "    </tr>\n",
       "    <tr>\n",
       "      <th>date</th>\n",
       "      <th></th>\n",
       "      <th></th>\n",
       "      <th></th>\n",
       "      <th></th>\n",
       "      <th></th>\n",
       "      <th></th>\n",
       "      <th></th>\n",
       "      <th></th>\n",
       "      <th></th>\n",
       "      <th></th>\n",
       "    </tr>\n",
       "  </thead>\n",
       "  <tbody>\n",
       "    <tr>\n",
       "      <th>2018-01-30T00:00:00</th>\n",
       "      <td>0.0</td>\n",
       "      <td>0.0</td>\n",
       "      <td>6.7</td>\n",
       "      <td>-1.7</td>\n",
       "      <td>-0.6</td>\n",
       "      <td>False</td>\n",
       "      <td>1.5</td>\n",
       "      <td>13.0</td>\n",
       "      <td>1.8</td>\n",
       "      <td>True</td>\n",
       "    </tr>\n",
       "    <tr>\n",
       "      <th>2018-03-08T00:00:00</th>\n",
       "      <td>48.8</td>\n",
       "      <td>NaN</td>\n",
       "      <td>1.1</td>\n",
       "      <td>-0.6</td>\n",
       "      <td>1.1</td>\n",
       "      <td>False</td>\n",
       "      <td>28.4</td>\n",
       "      <td>NaN</td>\n",
       "      <td>28.7</td>\n",
       "      <td>NaN</td>\n",
       "    </tr>\n",
       "    <tr>\n",
       "      <th>2018-03-13T00:00:00</th>\n",
       "      <td>4.1</td>\n",
       "      <td>51.0</td>\n",
       "      <td>5.6</td>\n",
       "      <td>-3.9</td>\n",
       "      <td>0.0</td>\n",
       "      <td>True</td>\n",
       "      <td>3.0</td>\n",
       "      <td>13.0</td>\n",
       "      <td>3.0</td>\n",
       "      <td>True</td>\n",
       "    </tr>\n",
       "    <tr>\n",
       "      <th>2018-03-21T00:00:00</th>\n",
       "      <td>0.0</td>\n",
       "      <td>0.0</td>\n",
       "      <td>2.8</td>\n",
       "      <td>-2.8</td>\n",
       "      <td>0.6</td>\n",
       "      <td>False</td>\n",
       "      <td>6.6</td>\n",
       "      <td>114.0</td>\n",
       "      <td>8.6</td>\n",
       "      <td>True</td>\n",
       "    </tr>\n",
       "    <tr>\n",
       "      <th>2018-04-02T00:00:00</th>\n",
       "      <td>9.1</td>\n",
       "      <td>127.0</td>\n",
       "      <td>12.8</td>\n",
       "      <td>-1.1</td>\n",
       "      <td>-1.1</td>\n",
       "      <td>True</td>\n",
       "      <td>14.0</td>\n",
       "      <td>152.0</td>\n",
       "      <td>15.2</td>\n",
       "      <td>True</td>\n",
       "    </tr>\n",
       "  </tbody>\n",
       "</table>\n",
       "</div>"
      ],
      "text/plain": [
       "                     PRCP_x  SNOW_x  TMAX  TMIN  TOBS inclement_weather_x  \\\n",
       "date                                                                        \n",
       "2018-01-30T00:00:00     0.0     0.0   6.7  -1.7  -0.6               False   \n",
       "2018-03-08T00:00:00    48.8     NaN   1.1  -0.6   1.1               False   \n",
       "2018-03-13T00:00:00     4.1    51.0   5.6  -3.9   0.0                True   \n",
       "2018-03-21T00:00:00     0.0     0.0   2.8  -2.8   0.6               False   \n",
       "2018-04-02T00:00:00     9.1   127.0  12.8  -1.1  -1.1                True   \n",
       "\n",
       "                     PRCP_y  SNOW_y  WESF inclement_weather_y  \n",
       "date                                                           \n",
       "2018-01-30T00:00:00     1.5    13.0   1.8                True  \n",
       "2018-03-08T00:00:00    28.4     NaN  28.7                 NaN  \n",
       "2018-03-13T00:00:00     3.0    13.0   3.0                True  \n",
       "2018-03-21T00:00:00     6.6   114.0   8.6                True  \n",
       "2018-04-02T00:00:00    14.0   152.0  15.2                True  "
      ]
     },
     "execution_count": 106,
     "metadata": {},
     "output_type": "execute_result"
    }
   ],
   "source": [
    "valid_station.merge(sta_with_wesf, left_index=True, right_index=True).query('WESF>0').head()"
   ]
  },
  {
   "cell_type": "markdown",
   "id": "3976e546-be37-4224-8ff5-f66257a09952",
   "metadata": {},
   "source": [
    "The columns that existed in both dataframes, but didn't form part of the join got suffixes added to their names: _ x _ for columns from the left dataframe and _y_ for columns from the right dataframe. We can customize this with the suffixes argument:"
   ]
  },
  {
   "cell_type": "code",
   "execution_count": 107,
   "id": "eec61c46-1490-4639-a852-a1088c0cc573",
   "metadata": {},
   "outputs": [
    {
     "data": {
      "text/html": [
       "<div>\n",
       "<style scoped>\n",
       "    .dataframe tbody tr th:only-of-type {\n",
       "        vertical-align: middle;\n",
       "    }\n",
       "\n",
       "    .dataframe tbody tr th {\n",
       "        vertical-align: top;\n",
       "    }\n",
       "\n",
       "    .dataframe thead th {\n",
       "        text-align: right;\n",
       "    }\n",
       "</style>\n",
       "<table border=\"1\" class=\"dataframe\">\n",
       "  <thead>\n",
       "    <tr style=\"text-align: right;\">\n",
       "      <th></th>\n",
       "      <th>PRCP</th>\n",
       "      <th>SNOW</th>\n",
       "      <th>TMAX</th>\n",
       "      <th>TMIN</th>\n",
       "      <th>TOBS</th>\n",
       "      <th>inclement_weather</th>\n",
       "      <th>PRCP_?</th>\n",
       "      <th>SNOW_?</th>\n",
       "      <th>WESF</th>\n",
       "      <th>inclement_weather_?</th>\n",
       "    </tr>\n",
       "    <tr>\n",
       "      <th>date</th>\n",
       "      <th></th>\n",
       "      <th></th>\n",
       "      <th></th>\n",
       "      <th></th>\n",
       "      <th></th>\n",
       "      <th></th>\n",
       "      <th></th>\n",
       "      <th></th>\n",
       "      <th></th>\n",
       "      <th></th>\n",
       "    </tr>\n",
       "  </thead>\n",
       "  <tbody>\n",
       "    <tr>\n",
       "      <th>2018-01-30T00:00:00</th>\n",
       "      <td>0.0</td>\n",
       "      <td>0.0</td>\n",
       "      <td>6.7</td>\n",
       "      <td>-1.7</td>\n",
       "      <td>-0.6</td>\n",
       "      <td>False</td>\n",
       "      <td>1.5</td>\n",
       "      <td>13.0</td>\n",
       "      <td>1.8</td>\n",
       "      <td>True</td>\n",
       "    </tr>\n",
       "    <tr>\n",
       "      <th>2018-03-08T00:00:00</th>\n",
       "      <td>48.8</td>\n",
       "      <td>NaN</td>\n",
       "      <td>1.1</td>\n",
       "      <td>-0.6</td>\n",
       "      <td>1.1</td>\n",
       "      <td>False</td>\n",
       "      <td>28.4</td>\n",
       "      <td>NaN</td>\n",
       "      <td>28.7</td>\n",
       "      <td>NaN</td>\n",
       "    </tr>\n",
       "    <tr>\n",
       "      <th>2018-03-13T00:00:00</th>\n",
       "      <td>4.1</td>\n",
       "      <td>51.0</td>\n",
       "      <td>5.6</td>\n",
       "      <td>-3.9</td>\n",
       "      <td>0.0</td>\n",
       "      <td>True</td>\n",
       "      <td>3.0</td>\n",
       "      <td>13.0</td>\n",
       "      <td>3.0</td>\n",
       "      <td>True</td>\n",
       "    </tr>\n",
       "    <tr>\n",
       "      <th>2018-03-21T00:00:00</th>\n",
       "      <td>0.0</td>\n",
       "      <td>0.0</td>\n",
       "      <td>2.8</td>\n",
       "      <td>-2.8</td>\n",
       "      <td>0.6</td>\n",
       "      <td>False</td>\n",
       "      <td>6.6</td>\n",
       "      <td>114.0</td>\n",
       "      <td>8.6</td>\n",
       "      <td>True</td>\n",
       "    </tr>\n",
       "    <tr>\n",
       "      <th>2018-04-02T00:00:00</th>\n",
       "      <td>9.1</td>\n",
       "      <td>127.0</td>\n",
       "      <td>12.8</td>\n",
       "      <td>-1.1</td>\n",
       "      <td>-1.1</td>\n",
       "      <td>True</td>\n",
       "      <td>14.0</td>\n",
       "      <td>152.0</td>\n",
       "      <td>15.2</td>\n",
       "      <td>True</td>\n",
       "    </tr>\n",
       "  </tbody>\n",
       "</table>\n",
       "</div>"
      ],
      "text/plain": [
       "                     PRCP   SNOW  TMAX  TMIN  TOBS inclement_weather  PRCP_?  \\\n",
       "date                                                                           \n",
       "2018-01-30T00:00:00   0.0    0.0   6.7  -1.7  -0.6             False     1.5   \n",
       "2018-03-08T00:00:00  48.8    NaN   1.1  -0.6   1.1             False    28.4   \n",
       "2018-03-13T00:00:00   4.1   51.0   5.6  -3.9   0.0              True     3.0   \n",
       "2018-03-21T00:00:00   0.0    0.0   2.8  -2.8   0.6             False     6.6   \n",
       "2018-04-02T00:00:00   9.1  127.0  12.8  -1.1  -1.1              True    14.0   \n",
       "\n",
       "                     SNOW_?  WESF inclement_weather_?  \n",
       "date                                                   \n",
       "2018-01-30T00:00:00    13.0   1.8                True  \n",
       "2018-03-08T00:00:00     NaN  28.7                 NaN  \n",
       "2018-03-13T00:00:00    13.0   3.0                True  \n",
       "2018-03-21T00:00:00   114.0   8.6                True  \n",
       "2018-04-02T00:00:00   152.0  15.2                True  "
      ]
     },
     "execution_count": 107,
     "metadata": {},
     "output_type": "execute_result"
    }
   ],
   "source": [
    "valid_station.merge(sta_with_wesf, left_index=True, right_index=True, suffixes = ('','_?')).query('WESF>0').head()"
   ]
  },
  {
   "cell_type": "markdown",
   "id": "c2f9f3a6-2c6a-4514-b2c3-5875a1ef57d2",
   "metadata": {},
   "source": [
    "Since we are joining on the index, an easier way is to use the join() method instead of merge() . Note that the suffix parameter is now lsuffix for the left dataframe's suffix and rsuffix for the right one's:"
   ]
  },
  {
   "cell_type": "code",
   "execution_count": 108,
   "id": "d19c80d8-a11e-472c-b55d-4cc33be5be6d",
   "metadata": {},
   "outputs": [
    {
     "data": {
      "text/html": [
       "<div>\n",
       "<style scoped>\n",
       "    .dataframe tbody tr th:only-of-type {\n",
       "        vertical-align: middle;\n",
       "    }\n",
       "\n",
       "    .dataframe tbody tr th {\n",
       "        vertical-align: top;\n",
       "    }\n",
       "\n",
       "    .dataframe thead th {\n",
       "        text-align: right;\n",
       "    }\n",
       "</style>\n",
       "<table border=\"1\" class=\"dataframe\">\n",
       "  <thead>\n",
       "    <tr style=\"text-align: right;\">\n",
       "      <th></th>\n",
       "      <th>PRCP</th>\n",
       "      <th>SNOW</th>\n",
       "      <th>TMAX</th>\n",
       "      <th>TMIN</th>\n",
       "      <th>TOBS</th>\n",
       "      <th>inclement_weather</th>\n",
       "      <th>PRCP_?</th>\n",
       "      <th>SNOW_?</th>\n",
       "      <th>WESF</th>\n",
       "      <th>inclement_weather_?</th>\n",
       "    </tr>\n",
       "    <tr>\n",
       "      <th>date</th>\n",
       "      <th></th>\n",
       "      <th></th>\n",
       "      <th></th>\n",
       "      <th></th>\n",
       "      <th></th>\n",
       "      <th></th>\n",
       "      <th></th>\n",
       "      <th></th>\n",
       "      <th></th>\n",
       "      <th></th>\n",
       "    </tr>\n",
       "  </thead>\n",
       "  <tbody>\n",
       "    <tr>\n",
       "      <th>2018-01-30T00:00:00</th>\n",
       "      <td>0.0</td>\n",
       "      <td>0.0</td>\n",
       "      <td>6.7</td>\n",
       "      <td>-1.7</td>\n",
       "      <td>-0.6</td>\n",
       "      <td>False</td>\n",
       "      <td>1.5</td>\n",
       "      <td>13.0</td>\n",
       "      <td>1.8</td>\n",
       "      <td>True</td>\n",
       "    </tr>\n",
       "    <tr>\n",
       "      <th>2018-03-08T00:00:00</th>\n",
       "      <td>48.8</td>\n",
       "      <td>NaN</td>\n",
       "      <td>1.1</td>\n",
       "      <td>-0.6</td>\n",
       "      <td>1.1</td>\n",
       "      <td>False</td>\n",
       "      <td>28.4</td>\n",
       "      <td>NaN</td>\n",
       "      <td>28.7</td>\n",
       "      <td>NaN</td>\n",
       "    </tr>\n",
       "    <tr>\n",
       "      <th>2018-03-13T00:00:00</th>\n",
       "      <td>4.1</td>\n",
       "      <td>51.0</td>\n",
       "      <td>5.6</td>\n",
       "      <td>-3.9</td>\n",
       "      <td>0.0</td>\n",
       "      <td>True</td>\n",
       "      <td>3.0</td>\n",
       "      <td>13.0</td>\n",
       "      <td>3.0</td>\n",
       "      <td>True</td>\n",
       "    </tr>\n",
       "    <tr>\n",
       "      <th>2018-03-21T00:00:00</th>\n",
       "      <td>0.0</td>\n",
       "      <td>0.0</td>\n",
       "      <td>2.8</td>\n",
       "      <td>-2.8</td>\n",
       "      <td>0.6</td>\n",
       "      <td>False</td>\n",
       "      <td>6.6</td>\n",
       "      <td>114.0</td>\n",
       "      <td>8.6</td>\n",
       "      <td>True</td>\n",
       "    </tr>\n",
       "    <tr>\n",
       "      <th>2018-04-02T00:00:00</th>\n",
       "      <td>9.1</td>\n",
       "      <td>127.0</td>\n",
       "      <td>12.8</td>\n",
       "      <td>-1.1</td>\n",
       "      <td>-1.1</td>\n",
       "      <td>True</td>\n",
       "      <td>14.0</td>\n",
       "      <td>152.0</td>\n",
       "      <td>15.2</td>\n",
       "      <td>True</td>\n",
       "    </tr>\n",
       "  </tbody>\n",
       "</table>\n",
       "</div>"
      ],
      "text/plain": [
       "                     PRCP   SNOW  TMAX  TMIN  TOBS inclement_weather  PRCP_?  \\\n",
       "date                                                                           \n",
       "2018-01-30T00:00:00   0.0    0.0   6.7  -1.7  -0.6             False     1.5   \n",
       "2018-03-08T00:00:00  48.8    NaN   1.1  -0.6   1.1             False    28.4   \n",
       "2018-03-13T00:00:00   4.1   51.0   5.6  -3.9   0.0              True     3.0   \n",
       "2018-03-21T00:00:00   0.0    0.0   2.8  -2.8   0.6             False     6.6   \n",
       "2018-04-02T00:00:00   9.1  127.0  12.8  -1.1  -1.1              True    14.0   \n",
       "\n",
       "                     SNOW_?  WESF inclement_weather_?  \n",
       "date                                                   \n",
       "2018-01-30T00:00:00    13.0   1.8                True  \n",
       "2018-03-08T00:00:00     NaN  28.7                 NaN  \n",
       "2018-03-13T00:00:00    13.0   3.0                True  \n",
       "2018-03-21T00:00:00   114.0   8.6                True  \n",
       "2018-04-02T00:00:00   152.0  15.2                True  "
      ]
     },
     "execution_count": 108,
     "metadata": {},
     "output_type": "execute_result"
    }
   ],
   "source": [
    "valid_station.join(sta_with_wesf, rsuffix='_?').query('WESF >0').head()"
   ]
  },
  {
   "cell_type": "markdown",
   "id": "f87f6761-3cfc-41ee-8109-0bca3a8303db",
   "metadata": {},
   "source": [
    "Joins can be very resource-intensive, so it's a good idea to figure out what type of join you need using set operations before trying the join itself. The pandas set operations are performed on the index, so whichever columns we will be joining on will need to be the index. Let's go back to the weather and station_info dataframes and set the station ID columns as the index:"
   ]
  },
  {
   "cell_type": "code",
   "execution_count": 109,
   "id": "ffba73b3-d88a-4fd1-a976-02ba217eb5b3",
   "metadata": {},
   "outputs": [],
   "source": [
    "weather.set_index('station', inplace=True)\n",
    "station_info.set_index('id', inplace=True)"
   ]
  },
  {
   "cell_type": "markdown",
   "id": "149f0610-cf92-4a5a-bf0d-e4db2e240c27",
   "metadata": {},
   "source": [
    "The intersection will tell us the stations that are present in both dataframes. The result will be the index when performing an inner join:"
   ]
  },
  {
   "cell_type": "code",
   "execution_count": 110,
   "id": "a2324eb5-81ea-40bf-907c-45e0ad174587",
   "metadata": {},
   "outputs": [
    {
     "data": {
      "text/plain": [
       "Index(['GHCND:US1CTFR0039', 'GHCND:US1NJBG0015', 'GHCND:US1NJBG0017',\n",
       "       'GHCND:US1NJBG0018', 'GHCND:US1NJBG0023', 'GHCND:US1NJBG0030',\n",
       "       'GHCND:US1NJBG0039', 'GHCND:US1NJBG0044', 'GHCND:US1NJES0018',\n",
       "       'GHCND:US1NJES0024',\n",
       "       ...\n",
       "       'GHCND:USC00284987', 'GHCND:US1NJES0031', 'GHCND:US1NJES0029',\n",
       "       'GHCND:US1NJMD0086', 'GHCND:US1NJMS0097', 'GHCND:US1NJMN0081',\n",
       "       'GHCND:US1NJMD0088', 'GHCND:US1NJES0033', 'GHCND:US1NJES0040',\n",
       "       'GHCND:US1NYQN0029'],\n",
       "      dtype='object', length=114)"
      ]
     },
     "execution_count": 110,
     "metadata": {},
     "output_type": "execute_result"
    }
   ],
   "source": [
    "weather.index.intersection(station_info.index)"
   ]
  },
  {
   "cell_type": "code",
   "execution_count": 111,
   "id": "09f0e0a6-9e19-42c1-8c4c-79d02426d56c",
   "metadata": {},
   "outputs": [
    {
     "data": {
      "text/plain": [
       "Index([], dtype='object')"
      ]
     },
     "execution_count": 111,
     "metadata": {},
     "output_type": "execute_result"
    }
   ],
   "source": [
    "weather.index.difference(station_info.index)"
   ]
  },
  {
   "cell_type": "markdown",
   "id": "0092d30f-99fa-4b87-b5f0-7b97c6e7ec7d",
   "metadata": {},
   "source": [
    "We lose 114 stations from the station_info dataframe, however:"
   ]
  },
  {
   "cell_type": "code",
   "execution_count": 114,
   "id": "a7b14a10-0ef0-4765-a914-3703d204deb1",
   "metadata": {},
   "outputs": [
    {
     "data": {
      "text/plain": [
       "Index(['GHCND:US1CTFR0022', 'GHCND:US1NJBG0001', 'GHCND:US1NJBG0002',\n",
       "       'GHCND:US1NJBG0005', 'GHCND:US1NJBG0006', 'GHCND:US1NJBG0008',\n",
       "       'GHCND:US1NJBG0011', 'GHCND:US1NJBG0012', 'GHCND:US1NJBG0013',\n",
       "       'GHCND:US1NJBG0020',\n",
       "       ...\n",
       "       'GHCND:USC00308749', 'GHCND:USC00308946', 'GHCND:USC00309117',\n",
       "       'GHCND:USC00309270', 'GHCND:USC00309400', 'GHCND:USC00309466',\n",
       "       'GHCND:USC00309576', 'GHCND:USC00309580', 'GHCND:USW00014708',\n",
       "       'GHCND:USW00014786'],\n",
       "      dtype='object', length=216)"
      ]
     },
     "execution_count": 114,
     "metadata": {},
     "output_type": "execute_result"
    }
   ],
   "source": [
    "station_info.index.difference(weather.index)"
   ]
  },
  {
   "cell_type": "markdown",
   "id": "926a56b0-ae3e-489a-888e-1f03c7c246b8",
   "metadata": {},
   "source": [
    "The symmetric difference will tell us what gets lost from both sides. It is the combination of the set difference in both directions: 216 + 114 = 330 which was station_info shape was"
   ]
  },
  {
   "cell_type": "code",
   "execution_count": 115,
   "id": "39e830e9-324c-44dc-ab6d-078a119a31fe",
   "metadata": {},
   "outputs": [
    {
     "data": {
      "text/plain": [
       "True"
      ]
     },
     "execution_count": 115,
     "metadata": {},
     "output_type": "execute_result"
    }
   ],
   "source": [
    "ny_in_name = station_info[station_info.name.str.contains('NY')]\n",
    "\n",
    "ny_in_name.index.difference(weather.index).shape[0]\\\n",
    "+ weather.index.difference(ny_in_name.index).shape[0]\\\n",
    "== weather.index.symmetric_difference(ny_in_name.index).shape[0]"
   ]
  },
  {
   "cell_type": "markdown",
   "id": "eb80e43c-4b8f-4bcc-9ccd-196575464bf9",
   "metadata": {},
   "source": [
    "The union will show us everything that will be present after a full outer join. Note that since these are sets (which don't allow duplicates by definition), we must pass unique\n",
    "entries for union:"
   ]
  },
  {
   "cell_type": "code",
   "execution_count": 116,
   "id": "6bb1090c-b739-4d31-bb72-422f2a9ba9ec",
   "metadata": {},
   "outputs": [
    {
     "data": {
      "text/plain": [
       "Index(['GHCND:US1CTFR0022', 'GHCND:US1CTFR0039', 'GHCND:US1NJBG0001',\n",
       "       'GHCND:US1NJBG0002', 'GHCND:US1NJBG0003', 'GHCND:US1NJBG0005',\n",
       "       'GHCND:US1NJBG0006', 'GHCND:US1NJBG0008', 'GHCND:US1NJBG0010',\n",
       "       'GHCND:US1NJBG0011',\n",
       "       ...\n",
       "       'GHCND:USW00014708', 'GHCND:USW00014732', 'GHCND:USW00014734',\n",
       "       'GHCND:USW00014786', 'GHCND:USW00054743', 'GHCND:USW00054787',\n",
       "       'GHCND:USW00094728', 'GHCND:USW00094741', 'GHCND:USW00094745',\n",
       "       'GHCND:USW00094789'],\n",
       "      dtype='object', length=330)"
      ]
     },
     "execution_count": 116,
     "metadata": {},
     "output_type": "execute_result"
    }
   ],
   "source": [
    "weather.index.unique().union(station_info.index)"
   ]
  },
  {
   "cell_type": "markdown",
   "id": "9c2bb46d-d4ca-4330-9ad4-25e9de562827",
   "metadata": {},
   "source": [
    "Note that the symmetric difference is actually the union of the set differences:"
   ]
  },
  {
   "cell_type": "code",
   "execution_count": 117,
   "id": "47973691-446c-4117-ad0b-5ee921b9fa6e",
   "metadata": {},
   "outputs": [
    {
     "data": {
      "text/plain": [
       "True"
      ]
     },
     "execution_count": 117,
     "metadata": {},
     "output_type": "execute_result"
    }
   ],
   "source": [
    "ny_in_name = station_info[station_info.name.str.contains('NY')]\n",
    "ny_in_name.index.difference(weather.index).union(weather.index.difference(ny_in_name.index)).equals(\n",
    "weather.index.symmetric_difference(ny_in_name.index)\n",
    ")"
   ]
  }
 ],
 "metadata": {
  "kernelspec": {
   "display_name": "Python 3 (ipykernel)",
   "language": "python",
   "name": "python3"
  },
  "language_info": {
   "codemirror_mode": {
    "name": "ipython",
    "version": 3
   },
   "file_extension": ".py",
   "mimetype": "text/x-python",
   "name": "python",
   "nbconvert_exporter": "python",
   "pygments_lexer": "ipython3",
   "version": "3.12.7"
  }
 },
 "nbformat": 4,
 "nbformat_minor": 5
}
