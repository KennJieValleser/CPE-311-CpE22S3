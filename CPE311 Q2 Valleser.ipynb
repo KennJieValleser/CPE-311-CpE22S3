{
 "cells": [
  {
   "cell_type": "code",
   "execution_count": null,
   "id": "79b9f8d8-ddfd-4811-91ce-0ad8de2961f3",
   "metadata": {},
   "outputs": [],
   "source": [
    "#Given a sequence of n real numbers A(1) ... A(n), determine a contiguous subsequence A(i) ... A(j) for which the sum of elements in the subsequence is maximized"
   ]
  },
  {
   "cell_type": "code",
   "execution_count": 17,
   "id": "9f4c1a11-31a9-4280-9ca6-b7441e3b10e2",
   "metadata": {},
   "outputs": [],
   "source": [
    "class PQ2 ():\n",
    "    def __init__(self, n):\n",
    "        self.n = n\n",
    "\n",
    "    def build(n):\n",
    "        table = [] * n + 1 \n",
    "        return table\n",
    "        \n",
    "    def Sequence (n):\n",
    "        for i in range(len(table)):\n",
    "            table=table[i-1] * n\n",
    "        return Sequence (n-1)\n",
    "        for i in range(len(table)):\n",
    "            for j in range(len(table)):\n",
    "                sum = table[i] + table[j]\n",
    "            return sum.update(table[i])\n",
    "\n"
   ]
  },
  {
   "cell_type": "code",
   "execution_count": null,
   "id": "0b5a5da5-d666-436f-8669-9eb188974099",
   "metadata": {},
   "outputs": [],
   "source": [
    "    "
   ]
  },
  {
   "cell_type": "code",
   "execution_count": null,
   "id": "112731e2-604b-45d2-b5fb-17d9f57340da",
   "metadata": {},
   "outputs": [],
   "source": []
  }
 ],
 "metadata": {
  "kernelspec": {
   "display_name": "Python 3 (ipykernel)",
   "language": "python",
   "name": "python3"
  },
  "language_info": {
   "codemirror_mode": {
    "name": "ipython",
    "version": 3
   },
   "file_extension": ".py",
   "mimetype": "text/x-python",
   "name": "python",
   "nbconvert_exporter": "python",
   "pygments_lexer": "ipython3",
   "version": "3.12.4"
  }
 },
 "nbformat": 4,
 "nbformat_minor": 5
}
