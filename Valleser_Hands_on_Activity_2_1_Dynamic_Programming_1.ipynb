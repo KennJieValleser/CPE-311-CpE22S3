{
  "cells": [
    {
      "cell_type": "markdown",
      "id": "f1c6ec95",
      "metadata": {
        "id": "f1c6ec95"
      },
      "source": [
        "# Hands-on Activity 2.1 : Dynamic Programming"
      ]
    },
    {
      "cell_type": "markdown",
      "id": "56dacba1",
      "metadata": {
        "id": "56dacba1"
      },
      "source": [
        "#### Objective(s):\n",
        "\n",
        "This activity aims to demonstrate how to use dynamic programming to solve problems."
      ]
    },
    {
      "cell_type": "markdown",
      "id": "e51f84e3",
      "metadata": {
        "id": "e51f84e3"
      },
      "source": [
        "#### Intended Learning Outcomes (ILOs):\n",
        "* Differentiate recursion method from dynamic programming to solve problems.\n",
        "* Demonstrate how to  solve real-world problems using dynamic programming\n"
      ]
    },
    {
      "cell_type": "markdown",
      "id": "39047b1a",
      "metadata": {
        "id": "39047b1a"
      },
      "source": [
        "#### Resources:\n",
        "* Jupyter Notebook\n"
      ]
    },
    {
      "cell_type": "markdown",
      "id": "cb5360c0",
      "metadata": {
        "id": "cb5360c0"
      },
      "source": [
        "#### Procedures:"
      ]
    },
    {
      "cell_type": "markdown",
      "id": "206a914c",
      "metadata": {
        "id": "206a914c"
      },
      "source": [
        "1. Create a code that demonstrate how to use recursion method to solve problem"
      ]
    },
    {
      "cell_type": "markdown",
      "id": "5744a876",
      "metadata": {
        "id": "5744a876"
      },
      "source": [
        "2. Create a program codes that demonstrate how to use dynamic programming to solve the same problem "
      ]
    },
    {
      "cell_type": "markdown",
      "id": "8e3f6572",
      "metadata": {
        "id": "8e3f6572"
      },
      "source": [
        "##### Question: \n",
        "Explain the difference of using the recursion from dynamic programming using the given sample codes to solve the same problem"
      ]
    },
    {
      "cell_type": "markdown",
      "id": "b5a71b53",
      "metadata": {
        "id": "b5a71b53"
      },
      "source": [
        "Type your answer here:\n",
        "Recursion and dynamic programming both solve the knapsack problem, but DP is much faster and more efficient.\n",
        "\n",
        "In recursion, the function keeps calling itself for smaller cases until it reaches the base case. It checks all possible ways to pick items, but this leads to repeated calculations, making it very slow for large inputs. Since it keeps creating new function calls, it also uses a lot of memory, which can cause stack overflow if the input is too big.\n",
        "\n",
        "Dynamic programming (DP), on the other hand, stores previous results in a table and builds the solution step by step. Instead of recalculating the same values, it reuses them, making it much faster.\n",
        "\n",
        "In short, recursion is simple but slow, while DP is a better choice for large problems because it avoids unnecessary calculations.\n",
        "\n",
        "\n"
      ]
    },
    {
      "cell_type": "markdown",
      "id": "60074702",
      "metadata": {
        "id": "60074702"
      },
      "source": [
        "3. Create a sample program codes to simulate bottom-up dynamic programming"
      ]
    },
    {
      "cell_type": "markdown",
      "id": "e629eb89",
      "metadata": {
        "id": "e629eb89"
      },
      "source": [
        "4. Create a sample program codes that simulate tops-down dynamic programming"
      ]
    },
    {
      "cell_type": "markdown",
      "id": "c2e2434c",
      "metadata": {
        "id": "c2e2434c"
      },
      "source": [
        "#### Question:\n",
        " Explain the difference between bottom-up from top-down dynamic programming using the given sample codes"
      ]
    },
    {
      "cell_type": "markdown",
      "id": "ac97e063",
      "metadata": {
        "id": "ac97e063"
      },
      "source": [
        "Type your answer here:\n",
        "\n",
        "Bottom-up and top-down dynamic programming both solve the knapsack problem, but they do it in different ways.\n",
        "\n",
        "Bottom-up (Tabulation) builds the solution step by step using a table. It starts from the smallest subproblems and fills up the table using loops. Since it doesn’t use recursion, it is faster and uses less memory.\n",
        "\n",
        "Top-down (Memoization) solves the problem using recursion and stores already computed values to avoid repeating work. It starts from the main problem and breaks it into smaller parts, storing results in a table. However, since it uses recursion, it needs more memory for function calls.\n",
        "\n",
        "In short, bottom-up uses loops and is more memory-efficient, while top-down uses recursion and may take more memory. Both make the knapsack problem faster, but bottom-up is better for larger inputs.\n"
      ]
    },
    {
      "cell_type": "markdown",
      "id": "f7a5bfbd",
      "metadata": {
        "id": "f7a5bfbd"
      },
      "source": [
        "0/1 Knapsack Problem\n",
        "\n",
        "* Analyze three different techniques to solve knapsacks problem\n",
        "1. Recursion\n",
        "2. Dynamic Programming\n",
        "3. Memoization"
      ]
    },
    {
      "cell_type": "code",
      "execution_count": 1,
      "id": "15SVHF85_1Ji",
      "metadata": {
        "id": "15SVHF85_1Ji"
      },
      "outputs": [],
      "source": [
        "#sample code for knapsack problem using recursion\n",
        "def rec_knapSack(w, wt, val, n):\n",
        "\n",
        "  #base case\n",
        "  #defined as nth item is empty;\n",
        "  #or the capacity w is 0\n",
        "  if n == 0 or w == 0:\n",
        "    return 0\n",
        "\n",
        "  #if weight of the nth item is more than\n",
        "  #the capacity W, then this item cannot be included\n",
        "  #as part of the optimal solution\n",
        "  if(wt[n-1] > w):\n",
        "    return rec_knapSack(w, wt, val, n-1)\n",
        "\n",
        "  #return the maximum of the two cases:\n",
        "  # (1) include the nth item\n",
        "  # (2) don't include the nth item\n",
        "  else:\n",
        "    return max(\n",
        "        val[n-1] + rec_knapSack(\n",
        "            w-wt[n-1], wt, val, n-1),\n",
        "            rec_knapSack(w, wt, val, n-1)\n",
        "    )"
      ]
    },
    {
      "cell_type": "code",
      "execution_count": 2,
      "id": "b1D3YRJ7cMqU",
      "metadata": {
        "colab": {
          "base_uri": "https://localhost:8080/"
        },
        "id": "b1D3YRJ7cMqU",
        "outputId": "788d87c8-0d84-4dd6-dfcf-1206fa495812"
      },
      "outputs": [
        {
          "data": {
            "text/plain": [
              "220"
            ]
          },
          "execution_count": 2,
          "metadata": {},
          "output_type": "execute_result"
        }
      ],
      "source": [
        "#To test:\n",
        "val = [60, 100, 120] #values for the items\n",
        "wt = [10, 20, 30] #weight of the items\n",
        "w = 50 #knapsack weight capacity\n",
        "n = len(val) #number of items\n",
        "\n",
        "rec_knapSack(w, wt, val, n)"
      ]
    },
    {
      "cell_type": "code",
      "execution_count": 4,
      "id": "A8OU1sUJ_1ES",
      "metadata": {
        "id": "A8OU1sUJ_1ES"
      },
      "outputs": [],
      "source": [
        "#Dynamic Programming for the Knapsack Problem\n",
        "def DP_knapSack(w, wt, val, n):\n",
        "  #create the table\n",
        "  table = [[0 for x in range(w+1)] for x in range (n+1)]\n",
        "\n",
        "  #populate the table in a bottom-up approach\n",
        "  for i in range(n+1):\n",
        "    for w in range(w+1):\n",
        "      if i == 0 or w == 0:\n",
        "        table[i][w] = 0\n",
        "      elif wt[i-1] <= w:\n",
        "        table[i][w] = max(val[i-1] + table[i-1][w-wt[i-1]],\n",
        "                          table[i-1][w])\n",
        "  return table[n][w]"
      ]
    },
    {
      "cell_type": "code",
      "execution_count": 5,
      "id": "GUNeEPHrd-N1",
      "metadata": {
        "colab": {
          "base_uri": "https://localhost:8080/"
        },
        "id": "GUNeEPHrd-N1",
        "outputId": "4829e602-248b-48f8-cbd3-e75c4d87d3b6"
      },
      "outputs": [
        {
          "data": {
            "text/plain": [
              "220"
            ]
          },
          "execution_count": 5,
          "metadata": {},
          "output_type": "execute_result"
        }
      ],
      "source": [
        "#To test:\n",
        "val = [60, 100, 120]\n",
        "wt = [10, 20, 30]\n",
        "w = 50\n",
        "n = len(val)\n",
        "\n",
        "DP_knapSack(w, wt, val, n)"
      ]
    },
    {
      "cell_type": "code",
      "execution_count": 19,
      "id": "VgwTX-XT_0_h",
      "metadata": {
        "colab": {
          "base_uri": "https://localhost:8080/"
        },
        "id": "VgwTX-XT_0_h",
        "outputId": "6f3c2cc6-01fc-433a-ae1e-cbb99976c028"
      },
      "outputs": [
        {
          "data": {
            "text/plain": [
              "220"
            ]
          },
          "execution_count": 19,
          "metadata": {},
          "output_type": "execute_result"
        }
      ],
      "source": [
        "  #Sample for top-down DP approach (memoization)\n",
        "  #initialize the list of items\n",
        "  val = [60, 100, 120]\n",
        "  wt = [10, 20, 30]\n",
        "  w = 50\n",
        "  n = len(val)\n",
        "\n",
        "  #initialize the container for the values that have to be stored\n",
        "  #values are initialized to -1\n",
        "  calc =[[-1 for i in range(w+1)] for j in range(n+1)]\n",
        "\n",
        "\n",
        "  def mem_knapSack(wt, val, w, n):\n",
        "    #base conditions\n",
        "    if n == 0 or w == 0:\n",
        "      return 0\n",
        "    if calc[n][w] != -1:\n",
        "      return calc[n][w]\n",
        "    \n",
        "    #compute for the other cases\n",
        "    if wt[n-1] <= w:\n",
        "      calc[n][w] = max(val[n-1] + mem_knapSack(wt, val, w-wt[n-1], n-1),\n",
        "                      mem_knapSack(wt, val, w, n-1))\n",
        "      return calc[n][w]\n",
        "    elif wt[n-1] > w:\n",
        "      calc[n][w] = mem_knapSack(wt, val, w, n-1)\n",
        "      return calc[n][w]\n",
        "\n",
        "  mem_knapSack(wt, val, w, n)"
      ]
    },
    {
      "cell_type": "markdown",
      "id": "-UXSSblDcF8T",
      "metadata": {
        "id": "-UXSSblDcF8T"
      },
      "source": [
        "**Code Analysis**\n",
        "\n",
        "The recursion method is the most easy. It breaks the problem into smaller subproblems by either including or excluding an item. However, it repeats the same calculations many times, which makes it very slow when dealing with large inputs.\n",
        "\n",
        "The memoization (top-down DP) method improves recursion by storing previously calculated results in a table. This way, if the same subproblem appears again, it just looks up the answer instead of recalculating it. This makes it faster than pure recursion but still uses recursion, which can take up memory due to function calls.\n",
        "\n",
        "The dynamic programming method is the most efficient. Instead of using recursion, it fills a table step by step from the smallest subproblems to the full problem. Since it doesn’t use function calls like recursion, it saves memory and runs much faster."
      ]
    },
    {
      "cell_type": "markdown",
      "id": "IGsdUGCUcTFd",
      "metadata": {
        "id": "IGsdUGCUcTFd"
      },
      "source": [
        "## Seatwork 2.1"
      ]
    },
    {
      "cell_type": "markdown",
      "id": "0462053d",
      "metadata": {
        "id": "0462053d"
      },
      "source": [
        "Task 1: Modify the three techniques to include additional criterion in the knapsack problems"
      ]
    },
    {
      "cell_type": "code",
      "execution_count": 23,
      "id": "ed2f6186",
      "metadata": {
        "id": "ed2f6186"
      },
      "outputs": [
        {
          "name": "stdout",
          "output_type": "stream",
          "text": [
            "220\n",
            "220\n",
            "220\n"
          ]
        }
      ],
      "source": [
        "#type your code here\n",
        "#Recursion\n",
        "\n",
        "def rec_knapSack(w, wt, val, n, max_items):\n",
        "    # Base case: No items left, no weight left, or no items allowed\n",
        "    if n == 0 or w == 0 or max_items == 0:\n",
        "        return 0\n",
        "\n",
        "    # If the current item is too heavy, skip it\n",
        "    if wt[n-1] > w:\n",
        "        return rec_knapSack(w, wt, val, n-1, max_items)\n",
        "\n",
        "    # Try both choices: (1) Take the item, (2) Skip the item\n",
        "    take = val[n-1] + rec_knapSack(w - wt[n-1], wt, val, n-1, max_items - 1)\n",
        "    skip = rec_knapSack(w, wt, val, n-1, max_items)\n",
        "\n",
        "    return max(take, skip)\n",
        "\n",
        "# Example usage\n",
        "val = [60, 100, 120]  # Item values\n",
        "wt = [10, 20, 30]  # Item weights\n",
        "w = 50  # Knapsack capacity\n",
        "n = len(val)  # Number of items\n",
        "max_items = 2  # Max number of items allowed\n",
        "\n",
        "print(rec_knapSack(w, wt, val, n, max_items))\n",
        "\n",
        "\n",
        "\n",
        "#Dynamic\n",
        "\n",
        "def DP_knapSack(w, wt, val, n, max_items):\n",
        "    # Create a 2D table where rows represent items (0 to n) and columns represent weight (0 to w)\n",
        "    table = [[0 for _ in range(w+1)] for _ in range(n+1)]\n",
        "\n",
        "    # Populate the table using a bottom-up approach\n",
        "    for i in range(1, n+1):  # Loop through each item\n",
        "        for j in range(w, 0, -1):  # Loop through weight capacities (backward to avoid overwriting)\n",
        "            if wt[i-1] <= j:  # If the current item's weight is within the capacity limit\n",
        "                \n",
        "                # Count how many items have been taken so far\n",
        "                count_items = sum(1 for x in range(i) if table[x][j] != table[x][j-wt[i-1]])\n",
        "                \n",
        "                if count_items < max_items:  # Ensure we do not exceed max_items\n",
        "                    # Choose the max between taking or skipping the item\n",
        "                    table[i][j] = max(val[i-1] + table[i-1][j-wt[i-1]], table[i-1][j])\n",
        "                else:\n",
        "                    # If max_items limit is reached, we cannot take the item\n",
        "                    table[i][j] = table[i-1][j]\n",
        "            else:\n",
        "                # If the item is too heavy, we just inherit the previous value\n",
        "                table[i][j] = table[i-1][j]\n",
        "\n",
        "    # The last cell of the table contains the maximum value that can be obtained\n",
        "    return table[n][w]\n",
        "\n",
        "\n",
        "# Example usage\n",
        "val = [60, 100, 120]  # Values of the items\n",
        "wt = [10, 20, 30]     # Corresponding weights\n",
        "w = 50                # Total weight capacity of the knapsack\n",
        "n = len(val)          # Number of items\n",
        "max_items = 2         # Maximum number of items allowed in the knapsack\n",
        "\n",
        "# Call the function and print the result\n",
        "print(DP_knapSack(w, wt, val, n, max_items))\n",
        "\n",
        "\n",
        "\n",
        "#Memoization\n",
        "# Initialize a memoization table (2D) with -1 (uncomputed values)\n",
        "# Table size: (n+1) x (w+1) because we track items (0 to n) and weight (0 to w)\n",
        "calc = [[-1 for _ in range(w+1)] for _ in range(n+1)]\n",
        "\n",
        "def mem_knapSack(wt, val, w, n, max_items):\n",
        "    \n",
        "    #Base case: If no items left, no weight capacity left, or max_items limit reached\n",
        "    if n == 0 or w == 0 or max_items == 0:\n",
        "        return 0  # No value can be added\n",
        "\n",
        "    #  Check if this state (n, w) has already been computed\n",
        "    if calc[n][w] != -1:\n",
        "        return calc[n][w]  # Return previously computed result\n",
        "\n",
        "   \n",
        "    \n",
        "    # Case 1: If the current item's weight is MORE than the remaining capacity (w)\n",
        "    # if We cannot take this item, so we move to the next item (n-1)\n",
        "    if wt[n-1] > w:\n",
        "        calc[n][w] = mem_knapSack(wt, val, w, n-1, max_items)\n",
        "\n",
        "    else:\n",
        "        #Case 2A: Take this item\n",
        "        # - Add the item's value\n",
        "        # - Reduce the remaining weight (w - wt[n-1])\n",
        "        # - Decrease the number of remaining items we can take (max_items - 1)\n",
        "        take = val[n-1] + mem_knapSack(wt, val, w - wt[n-1], n-1, max_items - 1)\n",
        "\n",
        "        #Case 2B: Skip this item\n",
        "        # - Keep the remaining weight and number of items unchanged\n",
        "        skip = mem_knapSack(wt, val, w, n-1, max_items)\n",
        "\n",
        "        # Choose the maximum value possible: either take it or skip it\n",
        "        calc[n][w] = max(take, skip)\n",
        "\n",
        "    # Store result in the memoization table and return it\n",
        "    return calc[n][w]\n",
        "\n",
        "# Testing the function\n",
        "val = [60, 100, 120]  # Values of items\n",
        "wt = [10, 20, 30]      # Weights of items\n",
        "w = 50                 # Total weight capacity of the knapsack\n",
        "n = len(val)           # Number of items available\n",
        "max_items = 2          # Maximum number of items allowed to pick\n",
        "\n",
        "#Compute and print the maximum value that can be obtained\n",
        "print(mem_knapSack(wt, val, w, n, max_items))\n"
      ]
    },
    {
      "cell_type": "markdown",
      "id": "d97e864e",
      "metadata": {
        "id": "d97e864e"
      },
      "source": [
        "Fibonacci Numbers"
      ]
    },
    {
      "cell_type": "code",
      "execution_count": null,
      "id": "HoqkUdvj_2ZZ",
      "metadata": {
        "id": "HoqkUdvj_2ZZ"
      },
      "outputs": [],
      "source": []
    },
    {
      "cell_type": "markdown",
      "id": "f44e88aa",
      "metadata": {
        "id": "f44e88aa"
      },
      "source": [
        "Task 2: Create a sample program that find the nth number of Fibonacci Series using Dynamic Programming"
      ]
    },
    {
      "cell_type": "code",
      "execution_count": 16,
      "id": "745871be",
      "metadata": {
        "id": "745871be"
      },
      "outputs": [
        {
          "name": "stdout",
          "output_type": "stream",
          "text": [
            "Fibonacci(10) = 55\n"
          ]
        }
      ],
      "source": [
        "#type your code here\n",
        "def fibonacci(n):\n",
        "    #Base cases: If n is 0 or 1, return n directly\n",
        "    if n == 0:\n",
        "        return 0\n",
        "    if n == 1:\n",
        "        return 1\n",
        "\n",
        "    #Create a DP table to store Fibonacci numbers up to nth term\n",
        "    fib_table = [0] * (n+1)  # Array of size (n+1), initialized with 0\n",
        "\n",
        "    #Set base values:\n",
        "    fib_table[0] = 0\n",
        "    fib_table[1] = 1\n",
        "\n",
        "    #Compute Fibonacci numbers iteratively\n",
        "    for i in range(2, n+1):\n",
        "        fib_table[i] = fib_table[i-1] + fib_table[i-2]\n",
        "\n",
        "    #Return the nth Fibonacci number\n",
        "    return fib_table[n]\n",
        "\n",
        "# Example usage:\n",
        "n = 10  # Find the 10th Fibonacci number\n",
        "print(f\"Fibonacci({n}) = {fibonacci(n)}\")\n"
      ]
    },
    {
      "cell_type": "markdown",
      "id": "070ddd75",
      "metadata": {
        "id": "070ddd75"
      },
      "source": [
        "## Supplementary Problem (HOA 2.1 Submission):\n",
        "* Choose a real-life problem\n",
        "* Use recursion and dynamic programming to solve the problem"
      ]
    },
    {
      "cell_type": "code",
      "execution_count": 17,
      "id": "86eef507",
      "metadata": {
        "id": "86eef507"
      },
      "outputs": [
        {
          "name": "stdout",
          "output_type": "stream",
          "text": [
            "Maximum Enjoyment (Recursion): 180\n"
          ]
        }
      ],
      "source": [
        "# Recursive function to maximize enjoyment within a budget\n",
        "def rec_travelBudget(budget, costs, fun_values, n):\n",
        "    # Base case: No more budget or activities left\n",
        "    if n == 0 or budget == 0:\n",
        "        return 0\n",
        "\n",
        "    # If the activity is too expensive, skip it\n",
        "    if costs[n-1] > budget:\n",
        "        return rec_travelBudget(budget, costs, fun_values, n-1)\n",
        "\n",
        "    # Choose the maximum between including or skipping the activity\n",
        "    else:\n",
        "        return max(\n",
        "            fun_values[n-1] + rec_travelBudget(budget - costs[n-1], costs, fun_values, n-1),\n",
        "            rec_travelBudget(budget, costs, fun_values, n-1)\n",
        "        )\n",
        "\n",
        "# Example usage\n",
        "costs = [20, 50, 30]  # Cost of each activity\n",
        "fun_values = [60, 100, 120]  # Enjoyment value\n",
        "budget = 50  # Available budget\n",
        "n = len(fun_values)\n",
        "\n",
        "print(\"Maximum Enjoyment (Recursion):\", rec_travelBudget(budget, costs, fun_values, n))\n"
      ]
    },
    {
      "cell_type": "code",
      "execution_count": 13,
      "id": "73b071b6",
      "metadata": {
        "id": "73b071b6"
      },
      "outputs": [
        {
          "name": "stdout",
          "output_type": "stream",
          "text": [
            "Maximum Enjoyment (Dynamic Programming): 180\n"
          ]
        }
      ],
      "source": [
        "def dp_travelBudget(budget, costs, fun_values, n):\n",
        "    # Create a DP table\n",
        "    table = [[0 for _ in range(budget + 1)] for _ in range(n + 1)]\n",
        "\n",
        "    # Build the table bottom-up\n",
        "    for i in range(n + 1):\n",
        "        for b in range(budget + 1):\n",
        "            if i == 0 or b == 0:\n",
        "                table[i][b] = 0\n",
        "            elif costs[i-1] <= b:\n",
        "                table[i][b] = max(fun_values[i-1] + table[i-1][b - costs[i-1]], table[i-1][b])\n",
        "            else:\n",
        "                table[i][b] = table[i-1][b]\n",
        "\n",
        "    return table[n][budget]\n",
        "\n",
        "costs = [20, 50, 30]  # Cost of each activity\n",
        "fun_values = [60, 100, 120]  # Enjoyment value\n",
        "budget = 50  # Available budget\n",
        "n = len(fun_values)\n",
        "# Example usage\n",
        "print(\"Maximum Enjoyment (Dynamic Programming):\", dp_travelBudget(budget, costs, fun_values, n))\n"
      ]
    },
    {
      "cell_type": "markdown",
      "id": "bb0ed6a9",
      "metadata": {
        "id": "bb0ed6a9"
      },
      "source": [
        "#### Conclusion"
      ]
    },
    {
      "cell_type": "markdown",
      "id": "c7b2d05e",
      "metadata": {},
      "source": [
        "In solving problems like the Knapsack Problem, we used three different methods which  are  Recursion, Memoization, and Dynamic Programming (DP). Recursion is the simplest because it just keeps breaking the problem into smaller parts, but it’s very slow since it repeats calculations. Memoization improves recursion by saving answers in a table so we don’t have to redo the same work, making it faster. Dynamic Programming (DP) takes a bottom-up approach, filling up a table step by step, which makes it the most efficient since it avoids recursion and extra memory use. In short, recursion is easy but slow, memoization is better but still uses recursion, and DP is the best for big problems because it’s fast and memory-efficient"
      ]
    },
    {
      "cell_type": "code",
      "execution_count": null,
      "id": "9627d18c",
      "metadata": {
        "id": "9627d18c"
      },
      "outputs": [],
      "source": [
        "#type your answer here"
      ]
    },
    {
      "cell_type": "code",
      "execution_count": null,
      "id": "416d49ae",
      "metadata": {},
      "outputs": [],
      "source": []
    }
  ],
  "metadata": {
    "colab": {
      "provenance": []
    },
    "kernelspec": {
      "display_name": "Python 3",
      "language": "python",
      "name": "python3"
    },
    "language_info": {
      "codemirror_mode": {
        "name": "ipython",
        "version": 3
      },
      "file_extension": ".py",
      "mimetype": "text/x-python",
      "name": "python",
      "nbconvert_exporter": "python",
      "pygments_lexer": "ipython3",
      "version": "3.11.9"
    }
  },
  "nbformat": 4,
  "nbformat_minor": 5
}
